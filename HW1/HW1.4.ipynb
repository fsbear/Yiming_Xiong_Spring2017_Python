{
 "cells": [
  {
   "cell_type": "markdown",
   "metadata": {},
   "source": [
    "# Question 4\n",
    "Under package nps_chat, see what files are in it.\n",
    "Find 'user121' and see how many posts he posted in all.\n",
    "Find out how many unique user in each age range group. (20s, 30s,...)(Hint: files' name)\n"
   ]
  },
  {
   "cell_type": "code",
   "execution_count": 16,
   "metadata": {
    "collapsed": true
   },
   "outputs": [],
   "source": [
    "import nltk\n",
    "from nltk.corpus import nps_chat"
   ]
  },
  {
   "cell_type": "code",
   "execution_count": 3,
   "metadata": {
    "collapsed": false
   },
   "outputs": [
    {
     "data": {
      "text/plain": [
       "['10-19-20s_706posts.xml',\n",
       " '10-19-30s_705posts.xml',\n",
       " '10-19-40s_686posts.xml',\n",
       " '10-19-adults_706posts.xml',\n",
       " '10-24-40s_706posts.xml',\n",
       " '10-26-teens_706posts.xml',\n",
       " '11-06-adults_706posts.xml',\n",
       " '11-08-20s_705posts.xml',\n",
       " '11-08-40s_706posts.xml',\n",
       " '11-08-adults_705posts.xml',\n",
       " '11-08-teens_706posts.xml',\n",
       " '11-09-20s_706posts.xml',\n",
       " '11-09-40s_706posts.xml',\n",
       " '11-09-adults_706posts.xml',\n",
       " '11-09-teens_706posts.xml']"
      ]
     },
     "execution_count": 3,
     "metadata": {},
     "output_type": "execute_result"
    }
   ],
   "source": [
    "nltk.corpus.nps_chat.fileids()"
   ]
  },
  {
   "cell_type": "code",
   "execution_count": 32,
   "metadata": {
    "collapsed": false
   },
   "outputs": [
    {
     "name": "stdout",
     "output_type": "stream",
     "text": [
      "132\n"
     ]
    }
   ],
   "source": [
    "# raw_txt = nltk.corpus.nps_chat.raw('10-19-20s_706posts.xml')\n",
    "# raw_txt\n",
    "count = 0\n",
    "posts = nps_chat.xml_posts()\n",
    "for post in posts:\n",
    "    if post.get('user').endswith('User121'):\n",
    "        count += 1\n",
    "\n",
    "\n",
    "\n",
    "# count = 0\n",
    "# for file in nltk.corpus.nps_chat.fileids():\n",
    "#     raw_txt = nltk.corpus.nps_chat.raw(file)\n",
    "#     count = count + raw_txt.count(\"User121\")\n",
    "\n",
    "print(count)\n",
    "    "
   ]
  },
  {
   "cell_type": "code",
   "execution_count": 31,
   "metadata": {
    "collapsed": false
   },
   "outputs": [
    {
     "ename": "IndentationError",
     "evalue": "unexpected indent (<ipython-input-31-b6fc8d0a9ea9>, line 35)",
     "output_type": "error",
     "traceback": [
      "\u001b[0;36m  File \u001b[0;32m\"<ipython-input-31-b6fc8d0a9ea9>\"\u001b[0;36m, line \u001b[0;32m35\u001b[0m\n\u001b[0;31m    for post in posts:\u001b[0m\n\u001b[0m    ^\u001b[0m\n\u001b[0;31mIndentationError\u001b[0m\u001b[0;31m:\u001b[0m unexpected indent\n"
     ]
    }
   ],
   "source": [
    "twenslist = []\n",
    "thirslist = []\n",
    "fourslist = []\n",
    "adultslist = []\n",
    "teenslist = []\n",
    "\n",
    "for file in nltk.corpus.nps_chat.fileids():\n",
    "    if \"20s_\" in file:\n",
    "        posts = nps_chat.xml_posts()        \n",
    "        for post in posts:\n",
    "            if post.get('user') not in twenslist:\n",
    "                twenslist.append(post)\n",
    "        \n",
    "    if \"30s_\" in file:\n",
    "        posts = nps_chat.xml_posts()        \n",
    "        for post in posts:\n",
    "            if post.get('user') not in thirslist:\n",
    "                thirslist.append(post)\n",
    "                \n",
    "    if \"40s_\" in file:\n",
    "        posts = nps_chat.xml_posts()\n",
    "        for post in posts:\n",
    "            if post.get('user') not in fourslist:\n",
    "                fourslist.append(post)\n",
    "                \n",
    "    if \"adults_\" in file:\n",
    "        posts = nps_chat.xml_posts()\n",
    "        for post in posts:\n",
    "            if post.get('user') not in adultslist:\n",
    "                adultslist.append(post)\n",
    "                \n",
    "    if \"teens_\" in file:\n",
    "       posts = nps_chat.xml_posts()\n",
    "        for post in posts:\n",
    "            if post.get('user') not in teenslist:\n",
    "                teenslist.append(post)\n",
    "                \n",
    "print(\"20s:\" + len(twenslist))"
   ]
  },
  {
   "cell_type": "code",
   "execution_count": null,
   "metadata": {
    "collapsed": false
   },
   "outputs": [],
   "source": []
  },
  {
   "cell_type": "code",
   "execution_count": null,
   "metadata": {
    "collapsed": true
   },
   "outputs": [],
   "source": []
  }
 ],
 "metadata": {
  "anaconda-cloud": {},
  "kernelspec": {
   "display_name": "Python [conda root]",
   "language": "python",
   "name": "conda-root-py"
  },
  "language_info": {
   "codemirror_mode": {
    "name": "ipython",
    "version": 3
   },
   "file_extension": ".py",
   "mimetype": "text/x-python",
   "name": "python",
   "nbconvert_exporter": "python",
   "pygments_lexer": "ipython3",
   "version": "3.5.2"
  }
 },
 "nbformat": 4,
 "nbformat_minor": 1
}
