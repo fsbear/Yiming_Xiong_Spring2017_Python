{
 "cells": [
  {
   "cell_type": "markdown",
   "metadata": {},
   "source": [
    "# Question 4\n",
    "Under package nps_chat, see what files are in it.\n",
    "Find 'user121' and see how many posts he posted in all.\n",
    "Find out how many unique user in each age range group. (20s, 30s,...)(Hint: files' name)\n"
   ]
  },
  {
   "cell_type": "code",
   "execution_count": 20,
   "metadata": {
    "collapsed": true
   },
   "outputs": [],
   "source": [
    "import nltk\n",
    "from nltk.corpus import nps_chat"
   ]
  },
  {
   "cell_type": "code",
   "execution_count": 21,
   "metadata": {
    "collapsed": false
   },
   "outputs": [
    {
     "data": {
      "text/plain": [
       "['10-19-20s_706posts.xml',\n",
       " '10-19-30s_705posts.xml',\n",
       " '10-19-40s_686posts.xml',\n",
       " '10-19-adults_706posts.xml',\n",
       " '10-24-40s_706posts.xml',\n",
       " '10-26-teens_706posts.xml',\n",
       " '11-06-adults_706posts.xml',\n",
       " '11-08-20s_705posts.xml',\n",
       " '11-08-40s_706posts.xml',\n",
       " '11-08-adults_705posts.xml',\n",
       " '11-08-teens_706posts.xml',\n",
       " '11-09-20s_706posts.xml',\n",
       " '11-09-40s_706posts.xml',\n",
       " '11-09-adults_706posts.xml',\n",
       " '11-09-teens_706posts.xml']"
      ]
     },
     "execution_count": 21,
     "metadata": {},
     "output_type": "execute_result"
    }
   ],
   "source": [
    "nltk.corpus.nps_chat.fileids()"
   ]
  },
  {
   "cell_type": "code",
   "execution_count": 22,
   "metadata": {
    "collapsed": false
   },
   "outputs": [
    {
     "name": "stdout",
     "output_type": "stream",
     "text": [
      "132\n"
     ]
    }
   ],
   "source": [
    "# raw_txt = nltk.corpus.nps_chat.raw('10-19-20s_706posts.xml')\n",
    "# raw_txt\n",
    "count = 0\n",
    "posts = nps_chat.xml_posts()\n",
    "for post in posts:\n",
    "    if post.get('user').endswith('User121'):\n",
    "        count += 1\n",
    "\n",
    "\n",
    "\n",
    "# count = 0\n",
    "# for file in nltk.corpus.nps_chat.fileids():\n",
    "#     raw_txt = nltk.corpus.nps_chat.raw(file)\n",
    "#     count = count + raw_txt.count(\"User121\")\n",
    "\n",
    "print(count)\n",
    "    "
   ]
  },
  {
   "cell_type": "code",
   "execution_count": 23,
   "metadata": {
    "collapsed": false
   },
   "outputs": [],
   "source": [
    "# twenslist = []\n",
    "# thirslist = []\n",
    "# fourslist = []\n",
    "# adultslist = []\n",
    "# teenslist = []\n",
    "\n",
    "# for file in nltk.corpus.nps_chat.fileids():\n",
    "#     if \"20s_\" in file:\n",
    "#         posts = nps_chat.xml_posts()        \n",
    "#         for post in posts:\n",
    "#             if post.get('user') not in twenslist:\n",
    "#                 twenslist.append(post)\n",
    "        \n",
    "#     if \"30s_\" in file:\n",
    "#         posts = nps_chat.xml_posts()        \n",
    "#         for post in posts:\n",
    "#             if post.get('user') not in thirslist:\n",
    "#                 thirslist.append(post)\n",
    "                \n",
    "#     if \"40s_\" in file:\n",
    "#         posts = nps_chat.xml_posts()\n",
    "#         for post in posts:\n",
    "#             if post.get('user') not in fourslist:\n",
    "#                 fourslist.append(post)\n",
    "                \n",
    "#     if \"adults_\" in file:\n",
    "#         posts = nps_chat.xml_posts()\n",
    "#         for post in posts:\n",
    "#             if post.get('user') not in adultslist:\n",
    "#                 adultslist.append(post)\n",
    "                \n",
    "#     if \"teens_\" in file:\n",
    "#        posts = nps_chat.xml_posts()\n",
    "#         for post in posts:\n",
    "#             if post.get('user') not in teenslist:\n",
    "#                 teenslist.append(post)\n",
    "                \n",
    "# print(\"20s:\" + len(twenslist))"
   ]
  },
  {
   "cell_type": "code",
   "execution_count": null,
   "metadata": {
    "collapsed": true
   },
   "outputs": [],
   "source": []
  },
  {
   "cell_type": "code",
   "execution_count": 24,
   "metadata": {
    "collapsed": false
   },
   "outputs": [],
   "source": [
    "grouplist = {}\n",
    "# grouptext = []\n",
    "for file in nltk.corpus.nps_chat.fileids():\n",
    "    group = file.split('_')[0].split('-')[1]\n",
    "    if group in grouplist.keys():\n",
    "#         grouplist[group].append(nps_chat.raw(file))\n",
    "        grouplist[group] += nps_chat.raw(file)\n",
    "    else: \n",
    "        grouplist[group] = nps_chat.raw(file)\n",
    "        "
   ]
  },
  {
   "cell_type": "code",
   "execution_count": 25,
   "metadata": {
    "collapsed": false
   },
   "outputs": [
    {
     "ename": "SyntaxError",
     "evalue": "unexpected EOF while parsing (<ipython-input-25-55419520dbe6>, line 6)",
     "output_type": "error",
     "traceback": [
      "\u001b[0;36m  File \u001b[0;32m\"<ipython-input-25-55419520dbe6>\"\u001b[0;36m, line \u001b[0;32m6\u001b[0m\n\u001b[0;31m    \u001b[0m\n\u001b[0m    ^\u001b[0m\n\u001b[0;31mSyntaxError\u001b[0m\u001b[0;31m:\u001b[0m unexpected EOF while parsing\n"
     ]
    }
   ],
   "source": [
    "import re\n",
    "for group in grouplist.keys():\n",
    "    user = re.findall(r'user=\"([^\"]+)\"', grouplist[group])\n",
    "    answer= len(set([word.split(\"U\")[1] for word in user]))\n",
    "    print(\"the group of \" +group + \"and number is %d\" %(answer)\n",
    "    "
   ]
  },
  {
   "cell_type": "code",
   "execution_count": null,
   "metadata": {
    "collapsed": true
   },
   "outputs": [],
   "source": []
  }
 ],
 "metadata": {
  "anaconda-cloud": {},
  "kernelspec": {
   "display_name": "Python [conda root]",
   "language": "python",
   "name": "conda-root-py"
  },
  "language_info": {
   "codemirror_mode": {
    "name": "ipython",
    "version": 3
   },
   "file_extension": ".py",
   "mimetype": "text/x-python",
   "name": "python",
   "nbconvert_exporter": "python",
   "pygments_lexer": "ipython3",
   "version": "3.5.2"
  }
 },
 "nbformat": 4,
 "nbformat_minor": 1
}
