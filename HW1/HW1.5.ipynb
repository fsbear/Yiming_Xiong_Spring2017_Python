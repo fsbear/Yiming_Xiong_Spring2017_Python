{
 "cells": [
  {
   "cell_type": "markdown",
   "metadata": {},
   "source": [
    "# Question 5\n",
    "Use Gutenberg and Web_text data. Find out what are the top 5 words that Shakespeare used but we do not use in currently.\n",
    "Take top 50 words from Shakespeare (all 3 books) and top 50 from Web_text (all the records).\n",
    "Remove punctuation and stop words.\n",
    "Remove the words we still use today, and get the unused list. Show the top 5 elements. \n"
   ]
  },
  {
   "cell_type": "code",
   "execution_count": 70,
   "metadata": {
    "collapsed": true
   },
   "outputs": [],
   "source": [
    "import nltk\n",
    "import operator\n",
    "from nltk.probability import FreqDist\n",
    "from nltk.corpus import webtext\n",
    "from nltk.corpus import stopwords\n",
    "# stopwords.words('english')"
   ]
  },
  {
   "cell_type": "code",
   "execution_count": 75,
   "metadata": {
    "collapsed": false
   },
   "outputs": [
    {
     "data": {
      "text/plain": [
       "[('haue', 448),\n",
       " ('ham', 337),\n",
       " ('thou', 312),\n",
       " ('shall', 300),\n",
       " ('lord', 293),\n",
       " ('come', 232),\n",
       " ('king', 231),\n",
       " ('enter', 230),\n",
       " ('good', 218),\n",
       " ('let', 217),\n",
       " ('thy', 202),\n",
       " ('caesar', 193),\n",
       " ('vs', 184),\n",
       " ('know', 176),\n",
       " ('thee', 174),\n",
       " ('would', 170),\n",
       " ('brutus', 162),\n",
       " ('vpon', 162),\n",
       " ('like', 162),\n",
       " ('bru', 153),\n",
       " ('well', 152),\n",
       " ('hath', 144),\n",
       " ('selfe', 143),\n",
       " ('man', 139),\n",
       " ('may', 138),\n",
       " ('macb', 137),\n",
       " ('yet', 136),\n",
       " ('heere', 135),\n",
       " ('say', 130),\n",
       " ('must', 130),\n",
       " ('tis', 129),\n",
       " ('th', 125),\n",
       " ('loue', 119),\n",
       " ('speake', 119),\n",
       " ('make', 119),\n",
       " ('giue', 118),\n",
       " ('see', 116),\n",
       " ('time', 115),\n",
       " ('sir', 114),\n",
       " ('night', 114),\n",
       " ('one', 112),\n",
       " ('st', 110),\n",
       " ('cassi', 107),\n",
       " ('ile', 106),\n",
       " ('doe', 103),\n",
       " ('hamlet', 100),\n",
       " ('go', 100),\n",
       " ('men', 96),\n",
       " ('hor', 95),\n",
       " ('vp', 94)]"
      ]
     },
     "execution_count": 75,
     "metadata": {},
     "output_type": "execute_result"
    }
   ],
   "source": [
    "sallwords = []\n",
    "swaords = {}\n",
    "for sbooks in nltk.corpus.gutenberg.fileids():\n",
    "    if \"shakespeare\" in sbooks:\n",
    "        words = nltk.corpus.gutenberg.words(sbooks)        \n",
    "        for word in words:\n",
    "            if word.isalpha():\n",
    "                word = word.lower()\n",
    "                if word not in stopwords.words('english'):         \n",
    "                    sallwords.append(word)\n",
    "            \n",
    "        \n",
    "swords = FreqDist(sallwords)\n",
    "        \n",
    "swords\n",
    "sorted_swords = sorted(swords.items(), key=operator.itemgetter(1))\n",
    "sorted_swords.reverse()\n",
    "sorted_swords[:50]"
   ]
  },
  {
   "cell_type": "code",
   "execution_count": 78,
   "metadata": {
    "collapsed": false
   },
   "outputs": [
    {
     "data": {
      "text/plain": [
       "[('girl', 2956),\n",
       " ('guy', 2751),\n",
       " ('like', 1696),\n",
       " ('man', 1075),\n",
       " ('know', 1025),\n",
       " ('woman', 998),\n",
       " ('yeah', 895),\n",
       " ('page', 887),\n",
       " ('firefox', 879),\n",
       " ('get', 869),\n",
       " ('new', 790),\n",
       " ('chick', 714),\n",
       " ('one', 700),\n",
       " ('oh', 682),\n",
       " ('open', 679),\n",
       " ('window', 670),\n",
       " ('good', 644),\n",
       " ('bookmarks', 598),\n",
       " ('teen', 587),\n",
       " ('well', 586),\n",
       " ('firebird', 583),\n",
       " ('cell', 577),\n",
       " ('right', 576),\n",
       " ('go', 564),\n",
       " ('work', 537),\n",
       " ('bar', 536),\n",
       " ('menu', 530),\n",
       " ('tab', 529),\n",
       " ('lady', 524),\n",
       " ('toolbar', 518),\n",
       " ('boy', 488),\n",
       " ('want', 485),\n",
       " ('browser', 484),\n",
       " ('think', 484),\n",
       " ('jack', 483),\n",
       " ('bookmark', 482),\n",
       " ('old', 475),\n",
       " ('really', 473),\n",
       " ('going', 460),\n",
       " ('download', 442),\n",
       " ('url', 440),\n",
       " ('back', 434),\n",
       " ('time', 432),\n",
       " ('black', 422),\n",
       " ('manager', 420),\n",
       " ('little', 419),\n",
       " ('got', 409),\n",
       " ('crash', 396),\n",
       " ('would', 392),\n",
       " ('button', 386)]"
      ]
     },
     "execution_count": 78,
     "metadata": {},
     "output_type": "execute_result"
    }
   ],
   "source": [
    "wallwords = []\n",
    "wwords = {}\n",
    "for webtext in nltk.corpus.webtext.fileids():\n",
    "    words = nltk.corpus.webtext.words(webtext)\n",
    "    for word in words:\n",
    "        if word.isalpha():\n",
    "            word = word.lower()\n",
    "            if word not in stopwords.words('english'): \n",
    "                wallwords.append(word)\n",
    "                \n",
    "                \n",
    "wwords = FreqDist(wallwords)\n",
    "    \n",
    "sorted_wwords = sorted(wwords.items(), key=operator.itemgetter(1))\n",
    "sorted_wwords.reverse()\n",
    "sorted_wwords[:50]\n",
    "# swords - wwords"
   ]
  },
  {
   "cell_type": "code",
   "execution_count": 39,
   "metadata": {
    "collapsed": false
   },
   "outputs": [],
   "source": []
  },
  {
   "cell_type": "code",
   "execution_count": null,
   "metadata": {
    "collapsed": true
   },
   "outputs": [],
   "source": []
  },
  {
   "cell_type": "code",
   "execution_count": 80,
   "metadata": {
    "collapsed": false
   },
   "outputs": [
    {
     "data": {
      "text/plain": [
       "[('haue', 448), ('brutus', 162), ('vpon', 162), ('bru', 153), ('hath', 144)]"
      ]
     },
     "execution_count": 80,
     "metadata": {},
     "output_type": "execute_result"
    }
   ],
   "source": [
    "\n",
    "for word in wwords:\n",
    "    if word in swords:\n",
    "        swords.pop(word)\n",
    "    \n",
    "sorted_swords = sorted(swords.items(), key=operator.itemgetter(1))\n",
    "sorted_swords.reverse()\n",
    "sorted_swords[:5]\n",
    "\n"
   ]
  },
  {
   "cell_type": "code",
   "execution_count": null,
   "metadata": {
    "collapsed": true
   },
   "outputs": [],
   "source": []
  }
 ],
 "metadata": {
  "kernelspec": {
   "display_name": "Python [conda root]",
   "language": "python",
   "name": "conda-root-py"
  },
  "language_info": {
   "codemirror_mode": {
    "name": "ipython",
    "version": 3
   },
   "file_extension": ".py",
   "mimetype": "text/x-python",
   "name": "python",
   "nbconvert_exporter": "python",
   "pygments_lexer": "ipython3",
   "version": "3.5.2"
  }
 },
 "nbformat": 4,
 "nbformat_minor": 1
}
