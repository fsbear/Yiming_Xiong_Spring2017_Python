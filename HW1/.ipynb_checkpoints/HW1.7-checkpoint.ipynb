{
 "cells": [
  {
   "cell_type": "markdown",
   "metadata": {},
   "source": [
    "# Q7\n",
    "Use Name corpus, calculate the probability of a name being of a male or female base on the last character(s) of name.\n",
    "Sample steps:\n",
    "For char ‘a’:\n",
    "\ttotal_names = sum(names ending with ‘a’)\n",
    "\tmale_names = sum(male names ending with ‘a’)\n",
    "\tfemale_names = sum(female names ending with ‘a’)\n",
    "\tProbability of name being male = 100 * male_names / total_names\n",
    "2. Do this for all characters. \n",
    "Output must come with proper title (e.g. [a] male: 25%, female: 60%)\n"
   ]
  },
  {
   "cell_type": "code",
   "execution_count": 1,
   "metadata": {
    "collapsed": false
   },
   "outputs": [
    {
     "data": {
      "text/plain": [
       "['female.txt', 'male.txt']"
      ]
     },
     "execution_count": 1,
     "metadata": {},
     "output_type": "execute_result"
    }
   ],
   "source": [
    "import nltk\n",
    "nltk.corpus.names.fileids()"
   ]
  },
  {
   "cell_type": "code",
   "execution_count": 30,
   "metadata": {
    "collapsed": false
   },
   "outputs": [],
   "source": [
    "malelist = nltk.corpus.names.words(\"male.txt\")\n",
    "femalelist = nltk.corpus.names.words(\"female.txt\")\n",
    "def find(char):\n",
    "    malename  = len([name for name in malelist if name.endswith(char)])\n",
    "    femalename  = len([name for name in femalelist if name.endswith(char)])\n",
    "    totalname = malename + femalename\n",
    "    if totalname == 0:\n",
    "        malename = 0\n",
    "        femalename = 0\n",
    "    else:\n",
    "        male_rate = malename / totalname\n",
    "        female_rate = femalename / totalname\n",
    "        \n",
    "        print(\"The rate of [%s] being a male : %.4f, being female: %.4f\" %(char, male_rate, female_rate))\n",
    "    \n",
    "    \n",
    "\n"
   ]
  },
  {
   "cell_type": "code",
   "execution_count": 31,
   "metadata": {
    "collapsed": false
   },
   "outputs": [
    {
     "name": "stdout",
     "output_type": "stream",
     "text": [
      "The rate of [a] being a male : 0.0161, being female: 0.9839\n"
     ]
    }
   ],
   "source": [
    "find('a')"
   ]
  },
  {
   "cell_type": "code",
   "execution_count": 32,
   "metadata": {
    "collapsed": false
   },
   "outputs": [
    {
     "name": "stdout",
     "output_type": "stream",
     "text": [
      "The rate of [a] being a male : 0.0161, being female: 0.9839\n",
      "The rate of [b] being a male : 0.7000, being female: 0.3000\n",
      "The rate of [c] being a male : 1.0000, being female: 0.0000\n",
      "The rate of [d] being a male : 0.8539, being female: 0.1461\n",
      "The rate of [e] being a male : 0.2463, being female: 0.7537\n",
      "The rate of [f] being a male : 0.9259, being female: 0.0741\n",
      "The rate of [g] being a male : 0.7619, being female: 0.2381\n",
      "The rate of [h] being a male : 0.4697, being female: 0.5303\n",
      "The rate of [i] being a male : 0.1362, being female: 0.8638\n",
      "The rate of [j] being a male : 0.7500, being female: 0.2500\n",
      "The rate of [k] being a male : 0.9583, being female: 0.0417\n",
      "The rate of [l] being a male : 0.5109, being female: 0.4891\n",
      "The rate of [m] being a male : 0.8434, being female: 0.1566\n",
      "The rate of [n] being a male : 0.5532, being female: 0.4468\n",
      "The rate of [o] being a male : 0.8333, being female: 0.1667\n",
      "The rate of [p] being a male : 0.9000, being female: 0.1000\n",
      "The rate of [r] being a male : 0.8017, being female: 0.1983\n",
      "The rate of [s] being a male : 0.7121, being female: 0.2879\n",
      "The rate of [t] being a male : 0.7069, being female: 0.2931\n",
      "The rate of [u] being a male : 0.6667, being female: 0.3333\n",
      "The rate of [v] being a male : 0.8889, being female: 0.1111\n",
      "The rate of [w] being a male : 0.7727, being female: 0.2273\n",
      "The rate of [x] being a male : 0.5000, being female: 0.5000\n",
      "The rate of [y] being a male : 0.4187, being female: 0.5813\n",
      "The rate of [z] being a male : 0.7333, being female: 0.2667\n"
     ]
    }
   ],
   "source": [
    "import string \n",
    "for char in string.ascii_lowercase:\n",
    "    find(char)"
   ]
  },
  {
   "cell_type": "code",
   "execution_count": null,
   "metadata": {
    "collapsed": true
   },
   "outputs": [],
   "source": []
  }
 ],
 "metadata": {
  "anaconda-cloud": {},
  "kernelspec": {
   "display_name": "Python [conda root]",
   "language": "python",
   "name": "conda-root-py"
  },
  "language_info": {
   "codemirror_mode": {
    "name": "ipython",
    "version": 3
   },
   "file_extension": ".py",
   "mimetype": "text/x-python",
   "name": "python",
   "nbconvert_exporter": "python",
   "pygments_lexer": "ipython3",
   "version": "3.5.2"
  }
 },
 "nbformat": 4,
 "nbformat_minor": 1
}
