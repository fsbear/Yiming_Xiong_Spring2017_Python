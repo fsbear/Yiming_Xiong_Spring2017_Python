{
 "cells": [
  {
   "cell_type": "markdown",
   "metadata": {},
   "source": [
    "# Q2\n",
    "Under package Gutenberg get content from file 'melville-moby_dick.txt.' (HINT: Words? Raw?)\n",
    "Find out frequency of 26 characters. (Turn uppercase into lowercase and count as one character)\n",
    "List all 26 characters in order base on their frequency. (From most frequent to least frequent)\n",
    "Try NOT to use FreqDist module.\n"
   ]
  },
  {
   "cell_type": "code",
   "execution_count": 1,
   "metadata": {
    "collapsed": false
   },
   "outputs": [
    {
     "data": {
      "text/plain": [
       "['austen-emma.txt',\n",
       " 'austen-persuasion.txt',\n",
       " 'austen-sense.txt',\n",
       " 'bible-kjv.txt',\n",
       " 'blake-poems.txt',\n",
       " 'bryant-stories.txt',\n",
       " 'burgess-busterbrown.txt',\n",
       " 'carroll-alice.txt',\n",
       " 'chesterton-ball.txt',\n",
       " 'chesterton-brown.txt',\n",
       " 'chesterton-thursday.txt',\n",
       " 'edgeworth-parents.txt',\n",
       " 'melville-moby_dick.txt',\n",
       " 'milton-paradise.txt',\n",
       " 'shakespeare-caesar.txt',\n",
       " 'shakespeare-hamlet.txt',\n",
       " 'shakespeare-macbeth.txt',\n",
       " 'whitman-leaves.txt']"
      ]
     },
     "execution_count": 1,
     "metadata": {},
     "output_type": "execute_result"
    }
   ],
   "source": [
    "import nltk\n",
    "nltk.corpus.gutenberg.fileids()"
   ]
  },
  {
   "cell_type": "code",
   "execution_count": 31,
   "metadata": {
    "collapsed": false
   },
   "outputs": [],
   "source": [
    "words_txt = nltk.corpus.gutenberg.words('melville-moby_dick.txt')\n",
    "\n",
    "# print(words_txt[0:10])\n",
    "wordsdict = {}\n",
    "for word in words_txt: \n",
    "    if word.isalpha() == 1:\n",
    "        for char in word:\n",
    "            if char in wordsdict:\n",
    "                wordsdict[char] += 1\n",
    "            else:\n",
    "                wordsdict[char] = 1\n",
    "#         print(word)\n",
    "\n"
   ]
  },
  {
   "cell_type": "code",
   "execution_count": 32,
   "metadata": {
    "collapsed": false
   },
   "outputs": [
    {
     "name": "stdout",
     "output_type": "stream",
     "text": [
      "[('e', 115855), ('t', 85528), ('a', 75266), ('o', 68338), ('n', 64431), ('s', 62019), ('i', 61891), ('h', 61426), ('r', 51311)]\n"
     ]
    }
   ],
   "source": [
    "import operator\n",
    "sorted_words = sorted(wordsdict.items(), key=operator.itemgetter(1))\n",
    "sorted_words.reverse()\n",
    "print (sorted_words[0:9])\n",
    "    \n",
    "    "
   ]
  },
  {
   "cell_type": "code",
   "execution_count": null,
   "metadata": {
    "collapsed": true
   },
   "outputs": [],
   "source": []
  }
 ],
 "metadata": {
  "anaconda-cloud": {},
  "kernelspec": {
   "display_name": "Python [conda root]",
   "language": "python",
   "name": "conda-root-py"
  },
  "language_info": {
   "codemirror_mode": {
    "name": "ipython",
    "version": 3
   },
   "file_extension": ".py",
   "mimetype": "text/x-python",
   "name": "python",
   "nbconvert_exporter": "python",
   "pygments_lexer": "ipython3",
   "version": "3.5.2"
  }
 },
 "nbformat": 4,
 "nbformat_minor": 1
}
