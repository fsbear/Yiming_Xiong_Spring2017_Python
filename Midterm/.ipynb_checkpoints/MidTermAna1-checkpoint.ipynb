{
 "cells": [
  {
   "cell_type": "markdown",
   "metadata": {
    "collapsed": true
   },
   "source": [
    "# MidTerm Q1 Ana 1\n",
    "\n",
    "In this Analysis, I iterated through the whole dataset to find the people who send the most email or receive the most email respectively."
   ]
  },
  {
   "cell_type": "code",
   "execution_count": 69,
   "metadata": {
    "collapsed": false
   },
   "outputs": [
    {
     "name": "stdout",
     "output_type": "stream",
     "text": [
      "517401\n"
     ]
    }
   ],
   "source": [
    "import email\n",
    "import glob\n",
    "import os\n",
    "import re\n",
    "from email.parser import Parser\n",
    "from nltk.probability import FreqDist\n",
    "from nltk.corpus import stopwords\n",
    "\n",
    "path = os.path.dirname(os.getcwd())+'/Data/maildir'\n",
    "pathList = []\n",
    "pathList = [os.path.join(root, filename) for root, dirs, files in os.walk(path) for filename in files if filename.endswith('.')]\n",
    "print(len(pathList))\n",
    "\n",
    "    \n"
   ]
  },
  {
   "cell_type": "code",
   "execution_count": 83,
   "metadata": {
    "collapsed": false
   },
   "outputs": [],
   "source": [
    "personEmailReceiverEmail = []\n",
    "personEmailSenderEmail = []\n",
    "for path in pathList:\n",
    "    f = open(path, 'r', encoding = 'utf-8', errors = 'ignore')\n",
    "    content = f.read()  \n",
    "    email = Parser().parsestr(content)\n",
    "    \n",
    "#     calculate email receiver \n",
    "    if email['to'] != None:\n",
    "        if ',' in email['to']:\n",
    "            for reciever in email['to'].split(','):\n",
    "                reciever = reciever.replace('\\n\\t', '')\n",
    "                reciever = reciever.replace(' ', '')\n",
    "                personEmailReceiverEmail.append(reciever) \n",
    "        else:\n",
    "            personEmailReceiverEmail.append(email['to'])\n",
    "            \n",
    "#     calculate email sender \n",
    "            \n",
    "    if email['from'] != None:\n",
    "        if ',' in email['from']:\n",
    "            for sender in email['from'].split(','):\n",
    "                sender = sender.replace('\\n\\t', '')\n",
    "                sender = sender.replace(' ', '')\n",
    "                personEmailSenderEmail.append(sender) \n",
    "        else:\n",
    "            personEmailSenderEmail.append(email['from'])\n"
   ]
  },
  {
   "cell_type": "code",
   "execution_count": 87,
   "metadata": {
    "collapsed": false
   },
   "outputs": [
    {
     "name": "stdout",
     "output_type": "stream",
     "text": [
      "18993\n"
     ]
    }
   ],
   "source": [
    "import nltk\n",
    "receiverPersonNameList = []\n",
    "senderPersonNameList = []\n",
    "for receiver in personEmailReceiverEmail:\n",
    "    receiverPersonName = receiver.split(\"@\")[0]\n",
    "    receiverPersonNameList.append(receiverPersonName)\n",
    "    \n",
    "for sender in personEmailSenderEmail:\n",
    "    senderPersonName = sender.split(\"@\")[0]\n",
    "    senderPersonNameList.append(senderPersonName)\n",
    "    \n",
    "\n",
    "receiverFreq = FreqDist(receiverPersonNameList)\n",
    "senderFreq = FreqDist(senderPersonNameList)\n"
   ]
  },
  {
   "cell_type": "code",
   "execution_count": 88,
   "metadata": {
    "collapsed": false
   },
   "outputs": [
    {
     "name": "stdout",
     "output_type": "stream",
     "text": [
      "66486\n",
      "[('richard.shapiro', 15149), ('jeff.dasovich', 14207), ('tana.jones', 12828), ('steven.kean', 12754), ('sara.shackleton', 11434), ('james.steffes', 10347), ('mark.taylor', 9787), ('pete.davis', 9284), ('susan.mara', 9064)]\n",
      "18993\n",
      "[('kay.mann', 16735), ('vince.kaminski', 14368), ('jeff.dasovich', 11411), ('pete.davis', 9149), ('chris.germany', 8801), ('sara.shackleton', 8777), ('enron.announcements', 8587), ('tana.jones', 8490), ('steven.kean', 6759)]\n"
     ]
    }
   ],
   "source": [
    "import operator\n",
    "receiverFreqSorted = sorted(receiverFreq.items(), key=lambda receiverFreq: receiverFreq[1], reverse=True)\n",
    "print (len(receiverFreqSorted))\n",
    "print (receiverFreqSorted[:9])\n",
    "\n",
    "senderFreqSorted = sorted(senderFreq.items(), key=lambda senderFreq: senderFreq[1], reverse=True)\n",
    "print (len(senderFreqSorted))\n",
    "print (senderFreqSorted[:9])"
   ]
  },
  {
   "cell_type": "code",
   "execution_count": 89,
   "metadata": {
    "collapsed": false
   },
   "outputs": [],
   "source": [
    "import csv\n",
    "def outPutReceiverFreqCsv():\n",
    "    f = open('Q1AnalysisReceiverName.csv', 'a')\n",
    "    try:\n",
    "        writer = csv.writer(f)\n",
    "        writer.writerow([\"Receiver Name\", \"Count\"])\n",
    "        writer = writer.writerows(receiverFreqSorted)\n",
    "    finally:\n",
    "        f.close()\n",
    "        \n",
    "def outPutSenderFreqCsv():\n",
    "    f = open('Q1AnalysisSenderName.csv', 'a')\n",
    "    try:\n",
    "        writer = csv.writer(f)\n",
    "        writer.writerow([\"Sender Name\", \"Count\"])\n",
    "        writer = writer.writerows(senderFreqSorted)\n",
    "    finally:\n",
    "        f.close()\n",
    "    \n",
    "outPutReceiverFreqCsv()\n",
    "outPutSenderFreqCsv()"
   ]
  }
 ],
 "metadata": {
  "anaconda-cloud": {},
  "kernelspec": {
   "display_name": "Python [conda root]",
   "language": "python",
   "name": "conda-root-py"
  },
  "language_info": {
   "codemirror_mode": {
    "name": "ipython",
    "version": 3
   },
   "file_extension": ".py",
   "mimetype": "text/x-python",
   "name": "python",
   "nbconvert_exporter": "python",
   "pygments_lexer": "ipython3",
   "version": "3.5.2"
  }
 },
 "nbformat": 4,
 "nbformat_minor": 1
}
