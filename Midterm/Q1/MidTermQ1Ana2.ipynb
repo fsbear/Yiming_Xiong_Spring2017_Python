{
 "cells": [
  {
   "cell_type": "markdown",
   "metadata": {},
   "source": [
    "# MidTerm Q1 Ana 2\n",
    "\n",
    "Continued with Analysis 1, I pick top five person from the group who send most emails and five people from the group who receive most emails and some of people in the list is duplicate so it will contain 7 different account(which contain 6 person and one machine accoutn for auto-generated content) and I add in three VIPs Kenneth Lay, Founder, Chairman and CEO, Jeffrey Skilling, former President, and COO, Andrew Fastow, former CFO Rebecca Mark-Jusbasche, former Vice Chairman, Chairman and CEO of Enron International Stephen F. Cooper, Interim CEO and CRO So I made a List of Nine people who is the Person of Interests. Though Andrew Fastow have not directory of emials so eventually, there are eigth people into consideration.\n",
    "\n",
    "Receiver Name,Count\n",
    "richard.shapiro,15149 -----  Richard Shapiro        Vice President     Regulatory Affairs\n",
    "jeff.dasovich,14207   -----  Jeff Dasovich          Employee           Government Relation Executive\n",
    "tana.jones,12828      -----  Tana Jones             N/A\n",
    "steven.kean,12754     -----  Steven Kean            Vice President     Vice President & Chief of Staff\n",
    "\n",
    "\n",
    "Sender Name,Count\n",
    "kay.mann,16735        -----  Kay Mann               Employee\n",
    "vince.kaminski,14368  -----  Vince Kaminski         Manager            Risk Management Head\n",
    "jeff.dasovich,11411   -----  Jeff Dasovich          Employee           Government Relation Executive\n",
    "pete.davis,9149       -----  broadcast proxy\t    used for auto-generated emails\n",
    "\n",
    "Extra VIP\n",
    "Kenneth Lay  --  kenneth.lay\n",
    "Jeffrey Skilling  -- jeff.skilling\n",
    "Andrew Fastow  --  andrew.fastow (doesn't have a directory of email)\n"
   ]
  },
  {
   "cell_type": "code",
   "execution_count": 1,
   "metadata": {
    "collapsed": false
   },
   "outputs": [
    {
     "data": {
      "text/plain": [
       "[['shapiro-r', 'richard.shapiro'],\n",
       " ['dasovich-j', 'jeff.dasovic'],\n",
       " ['jones-t', 'tana.jones'],\n",
       " ['kean-s', 'steven.kean'],\n",
       " ['mann-k', 'kay.mann'],\n",
       " ['kaminski-v', 'vince.kaminski'],\n",
       " ['lay-k', 'kenneth.lay'],\n",
       " ['skilling-j', 'jeff.skilling']]"
      ]
     },
     "execution_count": 1,
     "metadata": {},
     "output_type": "execute_result"
    }
   ],
   "source": [
    "# Poi list contains a directory along with the the person name for email address\n",
    "Poi = [['shapiro-r', \"richard.shapiro\"], ['dasovich-j', \"jeff.dasovic\"], ['jones-t', \"tana.jones\"], ['kean-s', \"steven.kean\"], ['mann-k', \"kay.mann\"], ['kaminski-v', \"vince.kaminski\"], ['lay-k', \"kenneth.lay\"], ['skilling-j', \"jeff.skilling\"]] \n",
    "Poi\n"
   ]
  },
  {
   "cell_type": "code",
   "execution_count": 17,
   "metadata": {
    "collapsed": true
   },
   "outputs": [],
   "source": [
    "import os\n",
    "import re\n",
    "from email.parser import Parser\n",
    "from nltk.probability import FreqDist\n",
    "from nltk.corpus import stopwords\n",
    "import csv"
   ]
  },
  {
   "cell_type": "code",
   "execution_count": 19,
   "metadata": {
    "collapsed": false
   },
   "outputs": [
    {
     "name": "stdout",
     "output_type": "stream",
     "text": [
      "56\n",
      "jeff.dasovic richard.shapiro 0\n",
      "tana.jones richard.shapiro 0\n",
      "steven.kean richard.shapiro 17\n",
      "kay.mann richard.shapiro 0\n",
      "vince.kaminski richard.shapiro 0\n",
      "kenneth.lay richard.shapiro 2\n",
      "jeff.skilling richard.shapiro 0\n",
      "richard.shapiro jeff.dasovic 202\n",
      "tana.jones jeff.dasovic 0\n",
      "steven.kean jeff.dasovic 137\n",
      "kay.mann jeff.dasovic 0\n",
      "vince.kaminski jeff.dasovic 0\n",
      "kenneth.lay jeff.dasovic 0\n",
      "jeff.skilling jeff.dasovic 0\n",
      "richard.shapiro tana.jones 0\n",
      "jeff.dasovic tana.jones 0\n",
      "steven.kean tana.jones 0\n",
      "kay.mann tana.jones 0\n",
      "vince.kaminski tana.jones 0\n",
      "kenneth.lay tana.jones 0\n",
      "jeff.skilling tana.jones 0\n",
      "richard.shapiro steven.kean 629\n",
      "jeff.dasovic steven.kean 0\n",
      "tana.jones steven.kean 0\n",
      "kay.mann steven.kean 0\n",
      "vince.kaminski steven.kean 0\n",
      "kenneth.lay steven.kean 3\n",
      "jeff.skilling steven.kean 0\n",
      "richard.shapiro kay.mann 0\n",
      "jeff.dasovic kay.mann 0\n",
      "tana.jones kay.mann 0\n",
      "steven.kean kay.mann 0\n",
      "vince.kaminski kay.mann 0\n",
      "kenneth.lay kay.mann 0\n",
      "jeff.skilling kay.mann 0\n",
      "richard.shapiro vince.kaminski 6\n",
      "jeff.dasovic vince.kaminski 0\n",
      "tana.jones vince.kaminski 0\n",
      "steven.kean vince.kaminski 2\n",
      "kay.mann vince.kaminski 0\n",
      "kenneth.lay vince.kaminski 0\n",
      "jeff.skilling vince.kaminski 0\n",
      "richard.shapiro kenneth.lay 7\n",
      "jeff.dasovic kenneth.lay 0\n",
      "tana.jones kenneth.lay 0\n",
      "steven.kean kenneth.lay 12\n",
      "kay.mann kenneth.lay 0\n",
      "vince.kaminski kenneth.lay 0\n",
      "jeff.skilling kenneth.lay 0\n",
      "richard.shapiro jeff.skilling 2\n",
      "jeff.dasovic jeff.skilling 0\n",
      "tana.jones jeff.skilling 0\n",
      "steven.kean jeff.skilling 7\n",
      "kay.mann jeff.skilling 0\n",
      "vince.kaminski jeff.skilling 2\n",
      "kenneth.lay jeff.skilling 1\n"
     ]
    }
   ],
   "source": [
    "\n",
    "communicationCountList = []\n",
    "def calculateEmailCommunication():\n",
    "#     iterate through PoiList\n",
    "    \n",
    "\n",
    "    for namePair in Poi:\n",
    "    \n",
    "        dirname = namePair[0]\n",
    "        email = namePair[1]\n",
    "        path = os.path.dirname(os.getcwd())+ '/Data/maildir/' + dirname \n",
    "        pathList = []\n",
    "        pathList = [os.path.join(root, filename) for root, dirs, files in os.walk(path) for filename in files if filename.endswith('.')]\n",
    "#         iterate through all the file in the path\n",
    "\n",
    "        for namePair2 in Poi :                 \n",
    "            if namePair2[0] != dirname:\n",
    "                count = 0\n",
    "                countList = [namePair2[1], namePair[1], count]\n",
    "                \n",
    "                for path in pathList:\n",
    "                    f = open(path, 'r', encoding = 'utf-8', errors = 'ignore')\n",
    "                    content = f.read()  \n",
    "                    email = Parser().parsestr(content)\n",
    "                    if email['from'] != None:\n",
    "                        senderlist = []\n",
    "                        if ',' in email['from']:\n",
    "                            for sender in email['from'].split(','):\n",
    "                                sender = sender.replace('\\n\\t', '')\n",
    "                                sender = sender.replace(' ', '')\n",
    "                                sender = sender.split(\"@\")[0]\n",
    "                                senderlist.append(sender) \n",
    "                        else:\n",
    "                            senderlist.append(email['from'].split(\"@\")[0])   \n",
    "                        if namePair2[1] in senderlist:\n",
    "                            countList[2] += 1\n",
    "                communicationCountList.append(countList)  \n",
    "\n",
    "\n",
    "    print(len(communicationCountList))\n",
    "    for xs in communicationCountList:\n",
    "        print(\" \".join(map(str, xs)))\n",
    "calculateEmailCommunication()\n"
   ]
  },
  {
   "cell_type": "code",
   "execution_count": 23,
   "metadata": {
    "collapsed": false
   },
   "outputs": [],
   "source": [
    "def outPutCsv():\n",
    "    f = open('Ana2/Q1Analysis2EmailCommunication.csv', 'a')\n",
    "    try:\n",
    "        writer = csv.writer(f)\n",
    "        writer.writerow([\"Sender Name\", \"Receiver Name\", \"Count\"])\n",
    "        writer = writer.writerows(communicationCountList)\n",
    "    finally:\n",
    "        f.close()\n",
    "        \n",
    "outPutCsv()"
   ]
  }
 ],
 "metadata": {
  "anaconda-cloud": {},
  "kernelspec": {
   "display_name": "Python [conda root]",
   "language": "python",
   "name": "conda-root-py"
  },
  "language_info": {
   "codemirror_mode": {
    "name": "ipython",
    "version": 3
   },
   "file_extension": ".py",
   "mimetype": "text/x-python",
   "name": "python",
   "nbconvert_exporter": "python",
   "pygments_lexer": "ipython3",
   "version": "3.5.2"
  }
 },
 "nbformat": 4,
 "nbformat_minor": 1
}
