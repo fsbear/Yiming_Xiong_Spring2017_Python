{
 "cells": [
  {
   "cell_type": "markdown",
   "metadata": {},
   "source": [
    "# MirTerm Q1 Ana3\n",
    "\n",
    "Following the previous analysis, I got the list of emails that are send or receive from several Person of Interests which might contain the evidence of the fraud in Enron emails. And I used Freqdict to count the word frequency within all those emails\n"
   ]
  },
  {
   "cell_type": "code",
   "execution_count": 1,
   "metadata": {
    "collapsed": false
   },
   "outputs": [
    {
     "data": {
      "text/plain": [
       "[['shapiro-r', 'richard.shapiro'],\n",
       " ['dasovich-j', 'jeff.dasovic'],\n",
       " ['jones-t', 'tana.jones'],\n",
       " ['kean-s', 'steven.kean'],\n",
       " ['mann-k', 'kay.mann'],\n",
       " ['kaminski-v', 'vince.kaminski'],\n",
       " ['lay-k', 'kenneth.lay'],\n",
       " ['skilling-j', 'jeff.skilling']]"
      ]
     },
     "execution_count": 1,
     "metadata": {},
     "output_type": "execute_result"
    }
   ],
   "source": [
    "Poi = [['shapiro-r', \"richard.shapiro\"], ['dasovich-j', \"jeff.dasovic\"], ['jones-t', \"tana.jones\"], ['kean-s', \"steven.kean\"], ['mann-k', \"kay.mann\"], ['kaminski-v', \"vince.kaminski\"], ['lay-k', \"kenneth.lay\"], ['skilling-j', \"jeff.skilling\"]] \n",
    "Poi"
   ]
  },
  {
   "cell_type": "code",
   "execution_count": 2,
   "metadata": {
    "collapsed": true
   },
   "outputs": [],
   "source": [
    "import os\n",
    "import re\n",
    "from email.parser import Parser\n",
    "from nltk.probability import FreqDist\n",
    "from nltk.corpus import stopwords\n",
    "import csv"
   ]
  },
  {
   "cell_type": "code",
   "execution_count": null,
   "metadata": {
    "collapsed": true
   },
   "outputs": [],
   "source": [
    "emialPathList = []\n",
    "def calculateEmailCommunication():\n",
    "#     iterate through PoiList\n",
    "    for namePair in Poi:\n",
    "        dirname = namePair[0]\n",
    "        email = namePair[1]\n",
    "        path = os.path.dirname(os.getcwd())+ '/Data/maildir/' + dirname \n",
    "        pathList = []\n",
    "        pathList = [os.path.join(root, filename) for root, dirs, files in os.walk(path) for filename in files if filename.endswith('.')]\n",
    "#         iterate through all the file in the path\n",
    "\n",
    "        for namePair2 in Poi :                 \n",
    "            if namePair2[0] != dirname:               \n",
    "                for path in pathList:\n",
    "                    f = open(path, 'r', encoding = 'utf-8', errors = 'ignore')\n",
    "                    content = f.read()  \n",
    "                    email = Parser().parsestr(content)\n",
    "                    \n",
    "\n",
    "\n",
    "    print(len(communicationCountList))\n",
    "    for xs in communicationCountList:\n",
    "        print(\" \".join(map(str, xs)))\n",
    "calculateEmailCommunication()"
   ]
  }
 ],
 "metadata": {
  "kernelspec": {
   "display_name": "Python [conda root]",
   "language": "python",
   "name": "conda-root-py"
  },
  "language_info": {
   "codemirror_mode": {
    "name": "ipython",
    "version": 3
   },
   "file_extension": ".py",
   "mimetype": "text/x-python",
   "name": "python",
   "nbconvert_exporter": "python",
   "pygments_lexer": "ipython3",
   "version": "3.5.2"
  }
 },
 "nbformat": 4,
 "nbformat_minor": 1
}
