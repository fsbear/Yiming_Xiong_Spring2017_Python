{
 "cells": [
  {
   "cell_type": "markdown",
   "metadata": {},
   "source": [
    "# MidTerm Q2 Ana2"
   ]
  },
  {
   "cell_type": "code",
   "execution_count": 1,
   "metadata": {
    "collapsed": true
   },
   "outputs": [],
   "source": [
    "import requests\n",
    "import json\n",
    "import os\n",
    "import csv\n",
    "import operator\n",
    "import time"
   ]
  },
  {
   "cell_type": "code",
   "execution_count": 2,
   "metadata": {
    "collapsed": false
   },
   "outputs": [
    {
     "name": "stdout",
     "output_type": "stream",
     "text": [
      "/Users/xiongyiming/Documents/INFO7374Python/Midterm/API_Key/key2.txt\n"
     ]
    }
   ],
   "source": [
    "path = os.path.dirname(os.getcwd())+ '/API_Key/key2.txt'\n",
    "print(path)\n",
    "f = open(path, 'r', encoding = 'utf-8', errors = 'ignore')\n",
    "key = f.read()"
   ]
  },
  {
   "cell_type": "code",
   "execution_count": 3,
   "metadata": {
    "collapsed": false
   },
   "outputs": [
    {
     "data": {
      "text/plain": [
       "['Combined Print and E-Book Fiction',\n",
       " 'Combined Print and E-Book Nonfiction',\n",
       " 'Hardcover Fiction',\n",
       " 'Hardcover Nonfiction',\n",
       " 'Trade Fiction Paperback',\n",
       " 'Mass Market Paperback',\n",
       " 'Paperback Nonfiction',\n",
       " 'E-Book Fiction',\n",
       " 'E-Book Nonfiction']"
      ]
     },
     "execution_count": 3,
     "metadata": {},
     "output_type": "execute_result"
    }
   ],
   "source": [
    "def getAllListname():\n",
    "    listNameList = []\n",
    "    payload = {\n",
    "        'api-key': key\n",
    "    }\n",
    "    r = requests.get('https://api.nytimes.com/svc/books/v3/lists/names.json', params = payload).json()\n",
    "    path = os.path.dirname(os.getcwd())+ '/Data/Listname/'       \n",
    "    with open(path +'Listname.json', 'a') as outfile:\n",
    "        json.dump(r, outfile)        \n",
    "    for name in r[\"results\"]:           \n",
    "        listNameList.append(name[\"list_name\"])         \n",
    "    return listNameList\n",
    "\n",
    "AllListnameList = getAllListname()\n",
    "AllListnameList[:9]"
   ]
  },
  {
   "cell_type": "code",
   "execution_count": 4,
   "metadata": {
    "collapsed": false
   },
   "outputs": [],
   "source": [
    "\n",
    "def getAuthors(file):\n",
    "    authorList = []\n",
    "    with open(file, 'r') as infile:\n",
    "        lines = infile.readlines()\n",
    "        \n",
    "        for line in  lines:\n",
    "            author = line.split(',')[0]\n",
    "#             print(author)\n",
    "            authorList.append(author)           \n",
    "    return authorList\n",
    "\n",
    "\n",
    "    "
   ]
  },
  {
   "cell_type": "code",
   "execution_count": 5,
   "metadata": {
    "collapsed": false
   },
   "outputs": [],
   "source": [
    "def getAllBestsellerBooks(authorList):\n",
    "    bestSellerList = []\n",
    "    for author in authorList:\n",
    "        payload = {\n",
    "            'api-key': key, \n",
    "            'author': author\n",
    "        }\n",
    "        r = requests.get('https://api.nytimes.com/svc/books/v3/lists/best-sellers/history.json', params = payload).json()\n",
    "        try:\n",
    "            alist = [author, r[\"num_results\"]]\n",
    "            bestSellerList.append(alist) \n",
    "        except:\n",
    "            alist = [author, 0]\n",
    "            bestSellerList.append(alist)\n",
    "            \n",
    "        time.sleep(0.5)\n",
    "    return bestSellerList\n",
    "\n"
   ]
  },
  {
   "cell_type": "code",
   "execution_count": 6,
   "metadata": {
    "collapsed": true
   },
   "outputs": [],
   "source": [
    "def outputCSV(bestSellerList, catagory):\n",
    "    f = open('Ana2/Q2Analysis2'+ catagory + 'AuthorBestSellerBooksCount.csv', 'a')\n",
    "    try:\n",
    "        writer = csv.writer(f)\n",
    "        writer.writerow([\"Author Name\", \"Best Seller Books Amount\"])\n",
    "        writer = writer.writerows(bestSellerList[1:])\n",
    "    finally:\n",
    "        f.close()"
   ]
  },
  {
   "cell_type": "code",
   "execution_count": 58,
   "metadata": {
    "collapsed": false
   },
   "outputs": [],
   "source": [
    "# Count ScienceAuthor Best Seller Books\n",
    "file = os.path.dirname(os.getcwd()) + '/Q2/Ana1/Q2Analysis1ScienceAuthorFreq.csv'\n",
    "scienceAuthorList = getAuthors(file)   \n",
    "bestSellerList = getAllBestsellerBooks(scienceAuthorList)\n",
    "sorted_bestSellerList = sorted(bestSellerList, key=lambda bestSellerList: bestSellerList[1], reverse=True)\n",
    "outputCSV(sorted_bestSellerList, \"Science\")"
   ]
  },
  {
   "cell_type": "code",
   "execution_count": 10,
   "metadata": {
    "collapsed": false
   },
   "outputs": [],
   "source": [
    "# Count BusinessBooks Author Best Seller Books\n",
    "file = os.path.dirname(os.getcwd()) + '/Q2/Ana1/Q2Analysis1BusinessBooksAuthorFreq.csv'\n",
    "businessBooksAuthorList = getAuthors(file)   \n",
    "bestSellerList = getAllBestsellerBooks(businessBooksAuthorList)\n",
    "sorted_bestSellerList = sorted(bestSellerList, key=lambda bestSellerList: bestSellerList[1], reverse=True)\n",
    "outputCSV(sorted_bestSellerList, \"BusinessBooks\")"
   ]
  },
  {
   "cell_type": "code",
   "execution_count": 7,
   "metadata": {
    "collapsed": false
   },
   "outputs": [],
   "source": [
    "# Count E-Book Fiction Authors Best Seller Books\n",
    "file = os.path.dirname(os.getcwd()) + '/Q2/Ana1/Q2Analysis1E-Book FictionAuthorFreq.csv'\n",
    "ebookfictionAuthorList = getAuthors(file)   \n",
    "bestSellerList = getAllBestsellerBooks(ebookfictionAuthorList)\n",
    "sorted_bestSellerList = sorted(bestSellerList, key=lambda bestSellerList: bestSellerList[1], reverse=True)\n",
    "outputCSV(sorted_bestSellerList, \"E-Book Fiction\")"
   ]
  },
  {
   "cell_type": "code",
   "execution_count": null,
   "metadata": {
    "collapsed": true
   },
   "outputs": [],
   "source": []
  }
 ],
 "metadata": {
  "anaconda-cloud": {},
  "kernelspec": {
   "display_name": "Python [conda root]",
   "language": "python",
   "name": "conda-root-py"
  },
  "language_info": {
   "codemirror_mode": {
    "name": "ipython",
    "version": 3
   },
   "file_extension": ".py",
   "mimetype": "text/x-python",
   "name": "python",
   "nbconvert_exporter": "python",
   "pygments_lexer": "ipython3",
   "version": "3.5.2"
  }
 },
 "nbformat": 4,
 "nbformat_minor": 1
}
