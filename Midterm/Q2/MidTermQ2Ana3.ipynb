{
 "cells": [
  {
   "cell_type": "markdown",
   "metadata": {},
   "source": [
    "# MidTerm Q2 Ana3"
   ]
  },
  {
   "cell_type": "code",
   "execution_count": 70,
   "metadata": {
    "collapsed": false
   },
   "outputs": [],
   "source": [
    "import requests\n",
    "import json\n",
    "import os\n",
    "import csv\n",
    "import operator\n",
    "import glob\n",
    "from nltk.probability import FreqDist\n",
    "import time\n",
    "import datetime \n",
    "from datetime import datetime\n"
   ]
  },
  {
   "cell_type": "code",
   "execution_count": 37,
   "metadata": {
    "collapsed": false
   },
   "outputs": [
    {
     "name": "stdout",
     "output_type": "stream",
     "text": [
      "/Users/xiongyiming/Documents/INFO7374Python/Midterm/API_Key/key2.txt\n"
     ]
    }
   ],
   "source": [
    "path = os.path.dirname(os.getcwd())+ '/API_Key/key2.txt'\n",
    "print(path)\n",
    "f = open(path, 'r', encoding = 'utf-8', errors = 'ignore')\n",
    "key = f.read()"
   ]
  },
  {
   "cell_type": "code",
   "execution_count": 40,
   "metadata": {
    "collapsed": false
   },
   "outputs": [],
   "source": [
    "def getAllArticles():\n",
    "    i = 0\n",
    "    while(i < 200):\n",
    "        payload = {\n",
    "            'api-key': key, \n",
    "            'q': \"machine learning\",\n",
    "            'begin_date': \"20000101\",\n",
    "            'end_date': \"20170301\",\n",
    "            'page': i\n",
    "        }\n",
    "        r = requests.get('https://api.nytimes.com/svc/search/v2/articlesearch.json', params = payload).json()  \n",
    "        path = os.path.dirname(os.getcwd())+ '/Data/articlesearch/'\n",
    "        filename = \"articlesearch_page\" + str(i)\n",
    "        i += 1\n",
    "        time.sleep(0.4)\n",
    "        with open(path + filename + '.json', 'a') as outfile:\n",
    "            json.dump(r, outfile)\n",
    "getAllArticles()"
   ]
  },
  {
   "cell_type": "code",
   "execution_count": 73,
   "metadata": {
    "collapsed": false
   },
   "outputs": [],
   "source": [
    "def readData():\n",
    "    dateList = []\n",
    "    pathList = []\n",
    "    syspath = os.path.dirname(os.getcwd())+ '/Data/articlesearch/'\n",
    "    for filepath in glob.glob(syspath + '*.json'):\n",
    "        pathList.append(filepath)   \n",
    "    for path in pathList:\n",
    "    #   To get rid of the useless data\n",
    "        if os.path.getsize(path) >= 1000 :\n",
    "            f = open(path, 'r', encoding = 'utf-8', errors = 'ignore')\n",
    "    #         content = f.read()\n",
    "            data = json.load(f)       \n",
    "            for book in data[\"response\"].get(\"docs\"):\n",
    "                date = book[\"pub_date\"]\n",
    "#                 date = date.replace(\"-\", \"\")\n",
    "                dateList.append(date[:7])\n",
    "                \n",
    "    return dateList\n"
   ]
  },
  {
   "cell_type": "code",
   "execution_count": 74,
   "metadata": {
    "collapsed": false
   },
   "outputs": [
    {
     "data": {
      "text/plain": [
       "[('2000-01', 1),\n",
       " ('2000-02', 6),\n",
       " ('2000-03', 2),\n",
       " ('2000-04', 2),\n",
       " ('2000-05', 3),\n",
       " ('2000-06', 1),\n",
       " ('2000-07', 2),\n",
       " ('2000-08', 3),\n",
       " ('2000-09', 3),\n",
       " ('2000-11', 8),\n",
       " ('2000-12', 8),\n",
       " ('2001-01', 3),\n",
       " ('2001-02', 4),\n",
       " ('2001-03', 4),\n",
       " ('2001-04', 1),\n",
       " ('2001-06', 1),\n",
       " ('2001-07', 2),\n",
       " ('2001-08', 4),\n",
       " ('2001-09', 2),\n",
       " ('2001-10', 1),\n",
       " ('2001-11', 4),\n",
       " ('2001-12', 4),\n",
       " ('2002-01', 3),\n",
       " ('2002-02', 4),\n",
       " ('2002-03', 1),\n",
       " ('2002-04', 1),\n",
       " ('2002-05', 1),\n",
       " ('2002-06', 3),\n",
       " ('2002-07', 3),\n",
       " ('2002-08', 2),\n",
       " ('2002-09', 7),\n",
       " ('2002-10', 2),\n",
       " ('2002-11', 3),\n",
       " ('2003-01', 3),\n",
       " ('2003-02', 4),\n",
       " ('2003-03', 1),\n",
       " ('2003-04', 1),\n",
       " ('2003-05', 7),\n",
       " ('2003-07', 1),\n",
       " ('2003-08', 8),\n",
       " ('2003-09', 3),\n",
       " ('2003-10', 2),\n",
       " ('2003-11', 2),\n",
       " ('2003-12', 3),\n",
       " ('2004-01', 1),\n",
       " ('2004-02', 4),\n",
       " ('2004-03', 3),\n",
       " ('2004-04', 4),\n",
       " ('2004-05', 2),\n",
       " ('2004-06', 3),\n",
       " ('2004-07', 3),\n",
       " ('2004-08', 2),\n",
       " ('2004-09', 2),\n",
       " ('2004-10', 1),\n",
       " ('2004-11', 4),\n",
       " ('2004-12', 1),\n",
       " ('2005-01', 3),\n",
       " ('2005-02', 3),\n",
       " ('2005-03', 3),\n",
       " ('2005-05', 4),\n",
       " ('2005-06', 1),\n",
       " ('2005-07', 2),\n",
       " ('2005-08', 3),\n",
       " ('2005-09', 4),\n",
       " ('2005-10', 1),\n",
       " ('2005-11', 1),\n",
       " ('2005-12', 3),\n",
       " ('2006-01', 1),\n",
       " ('2006-02', 3),\n",
       " ('2006-03', 1),\n",
       " ('2006-05', 4),\n",
       " ('2006-06', 1),\n",
       " ('2006-07', 4),\n",
       " ('2006-08', 3),\n",
       " ('2006-09', 6),\n",
       " ('2006-10', 4),\n",
       " ('2006-11', 8),\n",
       " ('2006-12', 2),\n",
       " ('2007-01', 8),\n",
       " ('2007-02', 5),\n",
       " ('2007-03', 1),\n",
       " ('2007-04', 1),\n",
       " ('2007-05', 3),\n",
       " ('2007-06', 2),\n",
       " ('2007-07', 4),\n",
       " ('2007-08', 1),\n",
       " ('2007-09', 8),\n",
       " ('2007-10', 5),\n",
       " ('2008-01', 5),\n",
       " ('2008-02', 3),\n",
       " ('2008-03', 3),\n",
       " ('2008-04', 2),\n",
       " ('2008-05', 7),\n",
       " ('2008-07', 2),\n",
       " ('2008-08', 2),\n",
       " ('2008-09', 6),\n",
       " ('2008-10', 3),\n",
       " ('2008-11', 2),\n",
       " ('2008-12', 5),\n",
       " ('2009-01', 1),\n",
       " ('2009-02', 4),\n",
       " ('2009-03', 3),\n",
       " ('2009-04', 6),\n",
       " ('2009-05', 3),\n",
       " ('2009-06', 4),\n",
       " ('2009-07', 5),\n",
       " ('2009-08', 2),\n",
       " ('2009-09', 6),\n",
       " ('2009-10', 4),\n",
       " ('2009-11', 6),\n",
       " ('2009-12', 7),\n",
       " ('2010-01', 7),\n",
       " ('2010-02', 3),\n",
       " ('2010-03', 7),\n",
       " ('2010-04', 4),\n",
       " ('2010-05', 2),\n",
       " ('2010-06', 6),\n",
       " ('2010-07', 4),\n",
       " ('2010-08', 3),\n",
       " ('2010-09', 8),\n",
       " ('2010-10', 8),\n",
       " ('2010-11', 4),\n",
       " ('2010-12', 3),\n",
       " ('2011-02', 5),\n",
       " ('2011-03', 11),\n",
       " ('2011-04', 3),\n",
       " ('2011-05', 5),\n",
       " ('2011-06', 3),\n",
       " ('2011-07', 3),\n",
       " ('2011-08', 6),\n",
       " ('2011-09', 6),\n",
       " ('2011-10', 2),\n",
       " ('2011-11', 6),\n",
       " ('2011-12', 5),\n",
       " ('2012-01', 17),\n",
       " ('2012-02', 5),\n",
       " ('2012-03', 10),\n",
       " ('2012-04', 4),\n",
       " ('2012-05', 11),\n",
       " ('2012-06', 8),\n",
       " ('2012-07', 15),\n",
       " ('2012-08', 4),\n",
       " ('2012-09', 7),\n",
       " ('2012-10', 4),\n",
       " ('2012-11', 6),\n",
       " ('2012-12', 1),\n",
       " ('2013-01', 1),\n",
       " ('2013-02', 9),\n",
       " ('2013-03', 9),\n",
       " ('2013-04', 13),\n",
       " ('2013-05', 4),\n",
       " ('2013-06', 6),\n",
       " ('2013-07', 6),\n",
       " ('2013-08', 8),\n",
       " ('2013-09', 7),\n",
       " ('2013-10', 8),\n",
       " ('2013-11', 7),\n",
       " ('2013-12', 5),\n",
       " ('2014-01', 4),\n",
       " ('2014-02', 13),\n",
       " ('2014-03', 12),\n",
       " ('2014-04', 5),\n",
       " ('2014-05', 13),\n",
       " ('2014-06', 6),\n",
       " ('2014-07', 18),\n",
       " ('2014-08', 12),\n",
       " ('2014-09', 11),\n",
       " ('2014-10', 9),\n",
       " ('2014-11', 19),\n",
       " ('2014-12', 14),\n",
       " ('2015-01', 14),\n",
       " ('2015-02', 10),\n",
       " ('2015-03', 17),\n",
       " ('2015-04', 10),\n",
       " ('2015-05', 7),\n",
       " ('2015-06', 7),\n",
       " ('2015-07', 8),\n",
       " ('2015-08', 6),\n",
       " ('2015-09', 10),\n",
       " ('2015-10', 8),\n",
       " ('2015-11', 11),\n",
       " ('2015-12', 21),\n",
       " ('2016-01', 9),\n",
       " ('2016-02', 13),\n",
       " ('2016-03', 16),\n",
       " ('2016-04', 8),\n",
       " ('2016-05', 8),\n",
       " ('2016-06', 17),\n",
       " ('2016-07', 14),\n",
       " ('2016-08', 15),\n",
       " ('2016-09', 13),\n",
       " ('2016-10', 16),\n",
       " ('2016-11', 17),\n",
       " ('2016-12', 26),\n",
       " ('2017-01', 16),\n",
       " ('2017-02', 19),\n",
       " ('2017-03', 1)]"
      ]
     },
     "execution_count": 74,
     "metadata": {},
     "output_type": "execute_result"
    }
   ],
   "source": [
    "dateList = readData()\n",
    "dateListFreq  = FreqDist(dateList)\n",
    "sorted_words = sorted(dateListFreq.items(), key=lambda dateListFreq: dateListFreq[0])\n",
    "sorted_words"
   ]
  },
  {
   "cell_type": "code",
   "execution_count": 76,
   "metadata": {
    "collapsed": false
   },
   "outputs": [
    {
     "data": {
      "text/plain": [
       "<matplotlib.text.Text at 0x11416eb38>"
      ]
     },
     "execution_count": 76,
     "metadata": {},
     "output_type": "execute_result"
    },
    {
     "data": {
      "image/png": "[encoded data removed]",
      "text/plain": [
       "<matplotlib.figure.Figure at 0x113ff8400>"
      ]
     },
     "metadata": {},
     "output_type": "display_data"
    }
   ],
   "source": [
    "%matplotlib inline\n",
    "from matplotlib import pyplot as plt\n",
    "\n",
    "\n",
    "datetimeList = []\n",
    "for item in sorted_words:\n",
    "    date = datetime.strptime(item[0], '%Y-%m')\n",
    "    datetimeList.append(date)\n",
    "\n",
    "\n",
    "z_list = [z for [x, z] in sorted_words]\n",
    "\n",
    "plt.plot_date(datetimeList, z_list)\n",
    "plt.xlabel('Date')\n",
    "plt.ylabel('Frequency')\n",
    "plt.title(\" Machine Learning Trend\")\n",
    "\n"
   ]
  },
  {
   "cell_type": "code",
   "execution_count": null,
   "metadata": {
    "collapsed": true
   },
   "outputs": [],
   "source": []
  }
 ],
 "metadata": {
  "anaconda-cloud": {},
  "kernelspec": {
   "display_name": "Python [conda root]",
   "language": "python",
   "name": "conda-root-py"
  },
  "language_info": {
   "codemirror_mode": {
    "name": "ipython",
    "version": 3
   },
   "file_extension": ".py",
   "mimetype": "text/x-python",
   "name": "python",
   "nbconvert_exporter": "python",
   "pygments_lexer": "ipython3",
   "version": "3.5.2"
  }
 },
 "nbformat": 4,
 "nbformat_minor": 1
}
