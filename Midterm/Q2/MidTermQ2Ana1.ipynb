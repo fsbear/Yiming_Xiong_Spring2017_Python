{
 "cells": [
  {
   "cell_type": "markdown",
   "metadata": {},
   "source": [
    "# MidTerm Q2 Ana1\n"
   ]
  },
  {
   "cell_type": "code",
   "execution_count": 55,
   "metadata": {
    "collapsed": false
   },
   "outputs": [],
   "source": [
    "import requests\n",
    "import json\n",
    "import os\n",
    "import datetime\n",
    "from datetime import datetime\n",
    "from datetime import date, timedelta\n",
    "from dateutil import relativedelta\n",
    "import glob\n",
    "from nltk.probability import FreqDist\n",
    "from nltk.corpus import stopwords\n",
    "from nltk import word_tokenize\n",
    "import csv"
   ]
  },
  {
   "cell_type": "code",
   "execution_count": 2,
   "metadata": {
    "collapsed": false
   },
   "outputs": [
    {
     "name": "stdout",
     "output_type": "stream",
     "text": [
      "/Users/xiongyiming/Documents/INFO7374Python/Midterm/API_Key/key.txt\n"
     ]
    }
   ],
   "source": [
    "# read API-key for requests\n",
    "path = os.path.dirname(os.getcwd())+ '/API_Key/key.txt'\n",
    "print(path)\n",
    "f = open(path, 'r', encoding = 'utf-8', errors = 'ignore')\n",
    "key = f.read()\n"
   ]
  },
  {
   "cell_type": "code",
   "execution_count": 3,
   "metadata": {
    "collapsed": true
   },
   "outputs": [],
   "source": [
    "list_name = ['Business Books', 'Science', 'E-Book Fiction']"
   ]
  },
  {
   "cell_type": "code",
   "execution_count": 4,
   "metadata": {
    "collapsed": false
   },
   "outputs": [],
   "source": [
    "def calculateDateRange(beginDate, endDate):\n",
    "    dateList = []\n",
    "    while(beginDate < endDate):\n",
    "        beginDate =  beginDate + relativedelta.relativedelta(months=1)\n",
    "        dateList.append(beginDate)\n",
    "    return dateList"
   ]
  },
  {
   "cell_type": "code",
   "execution_count": 5,
   "metadata": {
    "collapsed": false
   },
   "outputs": [],
   "source": [
    "def getData(dateList, listname):  \n",
    "    for date in dateList:        \n",
    "        payload = {\n",
    "            'api-key': key,\n",
    "            'list': listname,\n",
    "            'date': date\n",
    "\n",
    "        }\n",
    "        r = requests.get('https://api.nytimes.com/svc/books/v3/lists.json', params = payload).json()\n",
    "        path = os.path.dirname(os.getcwd())+ '/Data/' + listname + 'bookList/'\n",
    "        filename = listname + str(date)\n",
    "        with open(path + filename + '.json', 'a') as outfile:\n",
    "            json.dump(r, outfile)\n",
    "\n",
    "    \n",
    "    \n"
   ]
  },
  {
   "cell_type": "code",
   "execution_count": 6,
   "metadata": {
    "collapsed": false
   },
   "outputs": [],
   "source": [
    "# get Business Books and Science BookList\n",
    "# dateList = calculateDateRange(date(2014, 1, 9), date(2017, 3, 9))\n",
    "# getData(dateList,\"Business Books\")\n",
    "# dateList = calculateDateRange(date(2013, 5, 9), date(2017, 3, 9))\n",
    "# getData(dateList,\"Science\")"
   ]
  },
  {
   "cell_type": "code",
   "execution_count": 7,
   "metadata": {
    "collapsed": true
   },
   "outputs": [],
   "source": [
    "def calculateWeekDateRange(beginDate, endDate):\n",
    "    dateList = []\n",
    "    while(beginDate < endDate):\n",
    "        beginDate =  beginDate + relativedelta.relativedelta(days=7)\n",
    "#         print(beginDate)\n",
    "        dateList.append(beginDate)\n",
    "    return dateList"
   ]
  },
  {
   "cell_type": "code",
   "execution_count": 8,
   "metadata": {
    "collapsed": false
   },
   "outputs": [],
   "source": [
    "# get E-Book Fiction list\n",
    "# dateList = calculateWeekDateRange(date(2014, 1, 9), date(2017, 1, 9))\n",
    "# getData(dateList,\"E-Book Fiction\")"
   ]
  },
  {
   "cell_type": "code",
   "execution_count": 45,
   "metadata": {
    "collapsed": false
   },
   "outputs": [],
   "source": [
    "\n",
    "def findAllAuthor(syspath):\n",
    "    pathList = []\n",
    "    authorList =[]\n",
    "    for filepath in glob.glob(syspath + '*.json'):\n",
    "        pathList.append(filepath)   \n",
    "    for path in pathList:\n",
    "    #   To get rid of the useless data\n",
    "        if os.path.getsize(path) >= 1000 :\n",
    "            f = open(path, 'r', encoding = 'utf-8', errors = 'ignore')\n",
    "    #         content = f.read()\n",
    "            data = json.load(f)       \n",
    "            for book in data[\"results\"]:\n",
    "                author = book[\"book_details\"][0][\"author\"]\n",
    "                authorList.append(author)\n",
    "    return authorList\n",
    "\n"
   ]
  },
  {
   "cell_type": "code",
   "execution_count": 60,
   "metadata": {
    "collapsed": false
   },
   "outputs": [],
   "source": [
    "def authorFreq(authorList):\n",
    "    wordfreq  = FreqDist(authorList)\n",
    "    sorted_words = sorted(wordfreq.items(), key=lambda wordfreq: wordfreq[1], reverse=True)\n",
    "    \n",
    "    print (sorted_words[0:20])\n",
    "    return sorted_words\n"
   ]
  },
  {
   "cell_type": "code",
   "execution_count": 61,
   "metadata": {
    "collapsed": true
   },
   "outputs": [],
   "source": [
    "def outputCSV(authorFreq, filename):\n",
    "    f = open('Ana1/Q2Analysis1'+ filename + '.csv', 'a')\n",
    "    try:\n",
    "        writer = csv.writer(f)\n",
    "        writer.writerow([\"Author Name\", \"Books Amount\"])\n",
    "        writer = writer.writerows(authorFreq)\n",
    "    finally:\n",
    "        f.close()\n",
    "        \n"
   ]
  },
  {
   "cell_type": "code",
   "execution_count": 62,
   "metadata": {
    "collapsed": false
   },
   "outputs": [
    {
     "name": "stdout",
     "output_type": "stream",
     "text": [
      "['Susan Cain', 'Daniel Kahneman', 'Susannah Cahalan', 'Eric Schmidt and Jared Cohen', 'Mary Roach', 'T Colin Campbell with Howard Jacobson', 'Gretchen Rubin', 'Rebecca Skloot', 'Charles Duhigg']\n",
      "[('Susan Cain', 39), ('Daniel Kahneman', 39), ('Charles Duhigg', 38), ('Rebecca Skloot', 33), ('Randall Munroe', 32), ('Atul Gawande', 27), ('Malcolm Gladwell', 22), ('David McCullough', 17), ('Elizabeth Kolbert', 14), ('Yuval Noah Harari', 14), ('Ashlee Vance', 13), ('Paul Kalanithi', 12), ('Bessel van der Kolk', 12), ('Alexandra Horowitz', 9), ('Siddhartha Mukherjee', 9), ('Hampton Sides', 8), ('Stephen W Hawking', 8), ('Bill Nye', 7), ('Amanda Ripley', 7), ('Carlo Rovelli', 7)]\n"
     ]
    }
   ],
   "source": [
    "scienceAuthorList = []\n",
    "syspathScience = os.path.dirname(os.getcwd()) + '/Data/SciencebookList/'\n",
    "scienceAuthorList = findAllAuthor(syspathScience)\n",
    "print(scienceAuthorList[0:9])\n",
    "scienceAuthorFreq = authorFreq(scienceAuthorList)\n",
    "filename = \"ScienceAuthorFreq\"\n",
    "outputCSV(scienceAuthorFreq, filename)"
   ]
  },
  {
   "cell_type": "code",
   "execution_count": null,
   "metadata": {
    "collapsed": true
   },
   "outputs": [],
   "source": []
  }
 ],
 "metadata": {
  "anaconda-cloud": {},
  "kernelspec": {
   "display_name": "Python [conda root]",
   "language": "python",
   "name": "conda-root-py"
  },
  "language_info": {
   "codemirror_mode": {
    "name": "ipython",
    "version": 3
   },
   "file_extension": ".py",
   "mimetype": "text/x-python",
   "name": "python",
   "nbconvert_exporter": "python",
   "pygments_lexer": "ipython3",
   "version": "3.5.2"
  }
 },
 "nbformat": 4,
 "nbformat_minor": 1
}
