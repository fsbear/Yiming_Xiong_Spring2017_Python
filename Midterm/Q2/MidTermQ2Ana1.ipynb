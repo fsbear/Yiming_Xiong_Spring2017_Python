{
 "cells": [
  {
   "cell_type": "markdown",
   "metadata": {},
   "source": [
    "# MidTerm Q2 Ana1\n"
   ]
  },
  {
   "cell_type": "code",
   "execution_count": 32,
   "metadata": {
    "collapsed": false
   },
   "outputs": [],
   "source": [
    "import requests\n",
    "import json\n",
    "import os\n",
    "import datetime\n",
    "from datetime import datetime\n",
    "from datetime import date, timedelta\n",
    "from dateutil import relativedelta\n",
    "import glob"
   ]
  },
  {
   "cell_type": "code",
   "execution_count": 2,
   "metadata": {
    "collapsed": false
   },
   "outputs": [
    {
     "name": "stdout",
     "output_type": "stream",
     "text": [
      "/Users/xiongyiming/Documents/INFO7374Python/Midterm/API_Key/key.txt\n"
     ]
    }
   ],
   "source": [
    "# read API-key for requests\n",
    "path = os.path.dirname(os.getcwd())+ '/API_Key/key.txt'\n",
    "print(path)\n",
    "f = open(path, 'r', encoding = 'utf-8', errors = 'ignore')\n",
    "key = f.read()\n"
   ]
  },
  {
   "cell_type": "code",
   "execution_count": 3,
   "metadata": {
    "collapsed": true
   },
   "outputs": [],
   "source": [
    "list_name = ['Business Books', 'Science', 'E-Book Fiction']"
   ]
  },
  {
   "cell_type": "code",
   "execution_count": 25,
   "metadata": {
    "collapsed": false
   },
   "outputs": [],
   "source": [
    "def calculateDateRange(beginDate, endDate):\n",
    "    dateList = []\n",
    "    while(beginDate < endDate):\n",
    "        beginDate =  beginDate + relativedelta.relativedelta(months=1)\n",
    "        dateList.append(beginDate)\n",
    "    return dateList"
   ]
  },
  {
   "cell_type": "code",
   "execution_count": 26,
   "metadata": {
    "collapsed": false
   },
   "outputs": [],
   "source": [
    "def getData(dateList, listname):  \n",
    "    for date in dateList:        \n",
    "        payload = {\n",
    "            'api-key': key,\n",
    "            'list': listname,\n",
    "            'date': date\n",
    "\n",
    "        }\n",
    "        r = requests.get('https://api.nytimes.com/svc/books/v3/lists.json', params = payload).json()\n",
    "        path = os.path.dirname(os.getcwd())+ '/Data/' + listname + 'bookList/'\n",
    "        filename = listname + str(date)\n",
    "        with open(path + filename + '.json', 'a') as outfile:\n",
    "            json.dump(r, outfile)\n",
    "\n",
    "    \n",
    "    \n"
   ]
  },
  {
   "cell_type": "code",
   "execution_count": 7,
   "metadata": {
    "collapsed": false
   },
   "outputs": [],
   "source": [
    "# get Business Books and Science BookList\n",
    "dateList = calculateDateRange(date(2014, 1, 9), date(2017, 3, 9))\n",
    "getData(dateList,\"Business Books\")\n",
    "dateList = calculateDateRange(date(2013, 4, 9), date(2017, 3, 9))\n",
    "getData(dateList,\"Science\")"
   ]
  },
  {
   "cell_type": "code",
   "execution_count": 27,
   "metadata": {
    "collapsed": true
   },
   "outputs": [],
   "source": [
    "def calculateWeekDateRange(beginDate, endDate):\n",
    "    dateList = []\n",
    "    while(beginDate < endDate):\n",
    "        beginDate =  beginDate + relativedelta.relativedelta(days=7)\n",
    "#         print(beginDate)\n",
    "        dateList.append(beginDate)\n",
    "    return dateList"
   ]
  },
  {
   "cell_type": "code",
   "execution_count": 31,
   "metadata": {
    "collapsed": false
   },
   "outputs": [],
   "source": [
    "# get E-Book Fiction list\n",
    "dateList = calculateWeekDateRange(date(2014, 1, 9), date(2017, 1, 9))\n",
    "getData(dateList,\"E-Book Fiction\")"
   ]
  },
  {
   "cell_type": "code",
   "execution_count": null,
   "metadata": {
    "collapsed": true
   },
   "outputs": [],
   "source": [
    "pathList = []\n",
    "for filepath in glob.glob('/Users/xiongyiming/Documents/INFO7374Python/Midterm/Data/SciencebookList/*.json'):\n",
    "    pathList.append(filepath)\n",
    "    \n",
    "for path in pathList:\n",
    "    f = open(path, 'r', encoding = 'utf-8', errors = 'ignore')\n",
    "    if \n",
    "    data = json.load(f)"
   ]
  }
 ],
 "metadata": {
  "anaconda-cloud": {},
  "kernelspec": {
   "display_name": "Python [conda root]",
   "language": "python",
   "name": "conda-root-py"
  },
  "language_info": {
   "codemirror_mode": {
    "name": "ipython",
    "version": 3
   },
   "file_extension": ".py",
   "mimetype": "text/x-python",
   "name": "python",
   "nbconvert_exporter": "python",
   "pygments_lexer": "ipython3",
   "version": "3.5.2"
  }
 },
 "nbformat": 4,
 "nbformat_minor": 1
}
