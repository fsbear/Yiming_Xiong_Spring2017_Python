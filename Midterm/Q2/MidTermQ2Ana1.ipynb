{
 "cells": [
  {
   "cell_type": "markdown",
   "metadata": {},
   "source": [
    "# MidTerm Q2 Ana1\n"
   ]
  },
  {
   "cell_type": "code",
   "execution_count": 66,
   "metadata": {
    "collapsed": false
   },
   "outputs": [],
   "source": [
    "import requests\n",
    "import json\n",
    "import os\n",
    "import datetime\n",
    "from datetime import datetime\n",
    "from datetime import date, timedelta\n",
    "from dateutil import relativedelta\n",
    "import glob\n",
    "from nltk.probability import FreqDist\n",
    "from nltk.corpus import stopwords\n",
    "from nltk import word_tokenize\n",
    "import csv\n",
    "import time"
   ]
  },
  {
   "cell_type": "code",
   "execution_count": 67,
   "metadata": {
    "collapsed": false
   },
   "outputs": [
    {
     "name": "stdout",
     "output_type": "stream",
     "text": [
      "/Users/xiongyiming/Documents/INFO7374Python/Midterm/API_Key/key2.txt\n"
     ]
    }
   ],
   "source": [
    "# read API-key for requests\n",
    "path = os.path.dirname(os.getcwd())+ '/API_Key/key2.txt'\n",
    "print(path)\n",
    "f = open(path, 'r', encoding = 'utf-8', errors = 'ignore')\n",
    "key = f.read()\n"
   ]
  },
  {
   "cell_type": "code",
   "execution_count": 3,
   "metadata": {
    "collapsed": true
   },
   "outputs": [],
   "source": [
    "list_name = ['Business Books', 'Science', 'E-Book Fiction']"
   ]
  },
  {
   "cell_type": "code",
   "execution_count": 68,
   "metadata": {
    "collapsed": false
   },
   "outputs": [],
   "source": [
    "def calculateDateRange(beginDate, endDate):\n",
    "    dateList = []\n",
    "    while(beginDate < endDate):\n",
    "        beginDate =  beginDate + relativedelta.relativedelta(months=1)\n",
    "        dateList.append(beginDate)\n",
    "    return dateList"
   ]
  },
  {
   "cell_type": "code",
   "execution_count": 69,
   "metadata": {
    "collapsed": false
   },
   "outputs": [],
   "source": [
    "def getData(dateList, listname):  \n",
    "    for date in dateList:        \n",
    "        payload = {\n",
    "            'api-key': key,\n",
    "            'list': listname,\n",
    "            'date': date\n",
    "\n",
    "        }\n",
    "        r = requests.get('https://api.nytimes.com/svc/books/v3/lists.json', params = payload).json()\n",
    "        time.sleep(1)\n",
    "        path = os.path.dirname(os.getcwd())+ '/Data/' + listname + 'bookList/'\n",
    "        filename = listname + str(date)\n",
    "        with open(path + filename + '.json', 'a') as outfile:\n",
    "            json.dump(r, outfile)\n",
    "\n",
    "    \n",
    "    \n"
   ]
  },
  {
   "cell_type": "code",
   "execution_count": 72,
   "metadata": {
    "collapsed": false
   },
   "outputs": [],
   "source": [
    "# get Business Books and Science BookList\n",
    "dateList = calculateDateRange(date(2014, 1, 9), date(2017, 3, 9))\n",
    "getData(dateList,\"Business Books\")\n",
    "dateList = calculateDateRange(date(2013, 5, 9), date(2017, 3, 9))\n",
    "getData(dateList,\"Science\")"
   ]
  },
  {
   "cell_type": "code",
   "execution_count": 73,
   "metadata": {
    "collapsed": true
   },
   "outputs": [],
   "source": [
    "def calculateWeekDateRange(beginDate, endDate):\n",
    "    dateList = []\n",
    "    while(beginDate < endDate):\n",
    "        beginDate =  beginDate + relativedelta.relativedelta(days=7)\n",
    "#         print(beginDate)\n",
    "        dateList.append(beginDate)\n",
    "    return dateList"
   ]
  },
  {
   "cell_type": "code",
   "execution_count": 75,
   "metadata": {
    "collapsed": false
   },
   "outputs": [],
   "source": [
    "# get E-Book Fiction list\n",
    "dateList = calculateWeekDateRange(date(2014, 1, 9), date(2017, 1, 9))\n",
    "getData(dateList,\"E-Book Fiction\")"
   ]
  },
  {
   "cell_type": "code",
   "execution_count": 76,
   "metadata": {
    "collapsed": false
   },
   "outputs": [],
   "source": [
    "\n",
    "def findAllAuthor(syspath):\n",
    "    pathList = []\n",
    "    authorList =[]\n",
    "    for filepath in glob.glob(syspath + '*.json'):\n",
    "        pathList.append(filepath)   \n",
    "    for path in pathList:\n",
    "    #   To get rid of the useless data\n",
    "        if os.path.getsize(path) >= 1000 :\n",
    "            f = open(path, 'r', encoding = 'utf-8', errors = 'ignore')\n",
    "    #         content = f.read()\n",
    "            data = json.load(f)       \n",
    "            for book in data[\"results\"]:\n",
    "                author = book[\"book_details\"][0][\"author\"]\n",
    "                authorList.append(author)\n",
    "    return authorList\n",
    "\n"
   ]
  },
  {
   "cell_type": "code",
   "execution_count": 77,
   "metadata": {
    "collapsed": false
   },
   "outputs": [],
   "source": [
    "def authorFreq(authorList):\n",
    "    wordfreq  = FreqDist(authorList)\n",
    "    sorted_words = sorted(wordfreq.items(), key=lambda wordfreq: wordfreq[1], reverse=True)\n",
    "    \n",
    "    print (sorted_words[0:20])\n",
    "    return sorted_words\n"
   ]
  },
  {
   "cell_type": "code",
   "execution_count": 78,
   "metadata": {
    "collapsed": true
   },
   "outputs": [],
   "source": [
    "def outputCSV(authorFreq, filename):\n",
    "    f = open('Ana1/Q2Analysis1'+ filename + '.csv', 'a')\n",
    "    try:\n",
    "        writer = csv.writer(f)\n",
    "        writer.writerow([\"Author Name\", \"Books Amount\"])\n",
    "        writer = writer.writerows(authorFreq)\n",
    "    finally:\n",
    "        f.close()\n",
    "        \n"
   ]
  },
  {
   "cell_type": "code",
   "execution_count": 79,
   "metadata": {
    "collapsed": false
   },
   "outputs": [
    {
     "name": "stdout",
     "output_type": "stream",
     "text": [
      "['Susan Cain', 'Daniel Kahneman', 'Susannah Cahalan', 'Eric Schmidt and Jared Cohen', 'Mary Roach', 'T Colin Campbell with Howard Jacobson', 'Gretchen Rubin', 'Rebecca Skloot', 'Charles Duhigg']\n",
      "[('Susan Cain', 45), ('Daniel Kahneman', 45), ('Charles Duhigg', 43), ('Rebecca Skloot', 38), ('Randall Munroe', 35), ('Atul Gawande', 29), ('Malcolm Gladwell', 26), ('David McCullough', 19), ('Elizabeth Kolbert', 16), ('Yuval Noah Harari', 15), ('Paul Kalanithi', 14), ('Ashlee Vance', 14), ('Bessel van der Kolk', 13), ('Alexandra Horowitz', 11), ('Stephen W Hawking', 10), ('Siddhartha Mukherjee', 10), ('Mary Roach', 9), ('Hampton Sides', 8), ('Amanda Ripley', 8), ('Carlo Rovelli', 8)]\n"
     ]
    }
   ],
   "source": [
    "# Count Science Books Author Frequency\n",
    "scienceAuthorList = []\n",
    "syspathScience = os.path.dirname(os.getcwd()) + '/Data/SciencebookList/'\n",
    "scienceAuthorList = findAllAuthor(syspathScience)\n",
    "print(scienceAuthorList[0:9])\n",
    "scienceAuthorFreq = authorFreq(scienceAuthorList)\n",
    "filename = \"ScienceAuthorFreq\"\n",
    "outputCSV(scienceAuthorFreq, filename)"
   ]
  },
  {
   "cell_type": "code",
   "execution_count": 80,
   "metadata": {
    "collapsed": false
   },
   "outputs": [
    {
     "name": "stdout",
     "output_type": "stream",
     "text": [
      "['Jordan Belfort', 'James J Cramer', 'Sheryl Sandberg with Nell Scovell', 'Daniel Kahneman', 'Malcolm Gladwell', 'Charles Duhigg', 'Alexa Von Tobel', 'Alan C Fox', 'Alison Levine']\n",
      "[('Malcolm Gladwell', 35), ('Charles Duhigg', 33), ('Daniel Kahneman', 31), ('Steven D Levitt and Stephen J Dubner', 13), ('Phil Knight', 11), ('Tony Robbins', 11), ('Michael Lewis', 11), ('Sheryl Sandberg with Nell Scovell', 10), ('Angela Duckworth', 10), ('Adam Grant', 8), ('Sophia Amoruso', 8), ('Ashlee Vance', 6), ('Laurence J Kotlikoff, Philip Moeller and Paul Solman', 6), ('Peter Thiel with Blake Masters', 6), ('Jocko Willink and Leif Babin', 5), ('Chip Gaines and Joanna Gaines with Mark Dagostino', 5), ('Thomas Piketty', 5), ('Naomi Klein', 5), ('Arianna Huffington', 4), ('Bill Burnett and Dave Evans', 4)]\n"
     ]
    }
   ],
   "source": [
    "# Count Business Books Author Frequency\n",
    "businessBooksAuthorList = []\n",
    "syspathbusinessBooks = os.path.dirname(os.getcwd()) + '/Data/Business BooksbookList/'\n",
    "businessBooksAuthorList = findAllAuthor(syspathbusinessBooks)\n",
    "print(businessBooksAuthorList[0:9])\n",
    "businessBooksAuthorFreq = authorFreq(businessBooksAuthorList)\n",
    "filename = \"BusinessBooksAuthorFreq\"\n",
    "outputCSV(businessBooksAuthorFreq, filename)"
   ]
  },
  {
   "cell_type": "code",
   "execution_count": 81,
   "metadata": {
    "collapsed": false
   },
   "outputs": [
    {
     "name": "stdout",
     "output_type": "stream",
     "text": [
      "['John Grisham', 'Donna Tartt', 'Liane Moriarty', 'Janet Evanovich', 'Tom Clancy with Mark Greaney', 'Diana Gabaldon', 'Linda Lael Miller', 'Gillian Flynn', 'Michael Connelly']\n",
      "[('Liane Moriarty', 82), ('Paula Hawkins', 82), ('Gillian Flynn', 73), ('Kristin Hannah', 65), ('David Baldacci', 63), ('Nora Roberts', 58), ('John Grisham', 58), ('Anthony Doerr', 57), ('E L James', 55), ('Donna Tartt', 38), ('Jojo Moyes', 38), ('Diana Gabaldon', 36), ('Michael Connelly', 36), ('Nicholas Sparks', 35), ('Lee Child', 31), ('Andy Weir', 31), ('Christina Baker Kline', 29), ('James Patterson and Maxine Paetro', 27), ('John Sandford', 25), ('Sandra Brown', 25)]\n"
     ]
    }
   ],
   "source": [
    "# Count E-Book Fiction Author Frequency\n",
    "fictionBooksAuthorList = []\n",
    "syspathfictionBooks = os.path.dirname(os.getcwd()) + '/Data/E-Book FictionbookList/'\n",
    "fictionBooksAuthorList = findAllAuthor(syspathfictionBooks)\n",
    "print(fictionBooksAuthorList[0:9])\n",
    "fictionBooksAuthorFreq = authorFreq(fictionBooksAuthorList)\n",
    "filename = \"E-Book FictionAuthorFreq\"\n",
    "outputCSV(fictionBooksAuthorFreq, filename)"
   ]
  },
  {
   "cell_type": "code",
   "execution_count": null,
   "metadata": {
    "collapsed": true
   },
   "outputs": [],
   "source": []
  }
 ],
 "metadata": {
  "anaconda-cloud": {},
  "kernelspec": {
   "display_name": "Python [conda root]",
   "language": "python",
   "name": "conda-root-py"
  },
  "language_info": {
   "codemirror_mode": {
    "name": "ipython",
    "version": 3
   },
   "file_extension": ".py",
   "mimetype": "text/x-python",
   "name": "python",
   "nbconvert_exporter": "python",
   "pygments_lexer": "ipython3",
   "version": "3.5.2"
  }
 },
 "nbformat": 4,
 "nbformat_minor": 1
}
