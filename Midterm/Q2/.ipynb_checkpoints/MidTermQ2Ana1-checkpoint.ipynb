{
 "cells": [
  {
   "cell_type": "markdown",
   "metadata": {},
   "source": [
    "# MidTerm Q2 Ana1\n"
   ]
  },
  {
   "cell_type": "code",
   "execution_count": 1,
   "metadata": {
    "collapsed": false
   },
   "outputs": [],
   "source": [
    "import requests\n",
    "import json\n",
    "import os\n",
    "import datetime\n",
    "from datetime import datetime\n",
    "from datetime import date, timedelta\n",
    "from dateutil import relativedelta"
   ]
  },
  {
   "cell_type": "code",
   "execution_count": 2,
   "metadata": {
    "collapsed": false
   },
   "outputs": [
    {
     "name": "stdout",
     "output_type": "stream",
     "text": [
      "/Users/xiongyiming/Documents/INFO7374Python/Midterm/API_Key/key.txt\n"
     ]
    }
   ],
   "source": [
    "path = os.path.dirname(os.getcwd())+ '/API_Key/key.txt'\n",
    "print(path)\n",
    "f = open(path, 'r', encoding = 'utf-8', errors = 'ignore')\n",
    "key = f.read()\n"
   ]
  },
  {
   "cell_type": "code",
   "execution_count": 3,
   "metadata": {
    "collapsed": true
   },
   "outputs": [],
   "source": [
    "list_name = ['Business Books', 'Science', 'E-Book Fiction']"
   ]
  },
  {
   "cell_type": "code",
   "execution_count": 25,
   "metadata": {
    "collapsed": false
   },
   "outputs": [],
   "source": [
    "def calculateDateRange(beginDate, endDate):\n",
    "    dateList = []\n",
    "    while(beginDate < endDate):\n",
    "        beginDate =  beginDate + relativedelta.relativedelta(months=1)\n",
    "#         print(beginDate)\n",
    "        dateList.append(beginDate)\n",
    "    return dateList"
   ]
  },
  {
   "cell_type": "code",
   "execution_count": 26,
   "metadata": {
    "collapsed": false
   },
   "outputs": [],
   "source": [
    "def getData(dateList, listname):  \n",
    "    for date in dateList:        \n",
    "        payload = {\n",
    "            'api-key': key,\n",
    "            'list': listname,\n",
    "            'date': date\n",
    "\n",
    "        }\n",
    "        r = requests.get('https://api.nytimes.com/svc/books/v3/lists.json', params = payload).json()\n",
    "        path = os.path.dirname(os.getcwd())+ '/Data/' + listname + 'bookList/'\n",
    "        filename = listname + str(date)\n",
    "        with open(path + filename + '.json', 'a') as outfile:\n",
    "            json.dump(r, outfile)\n",
    "\n",
    "    \n",
    "    \n"
   ]
  },
  {
   "cell_type": "code",
   "execution_count": 7,
   "metadata": {
    "collapsed": false
   },
   "outputs": [],
   "source": [
    "dateList = calculateDateRange(date(2014, 1, 9), date(2017, 3, 9))\n",
    "getData(dateList,\"Business Books\")\n",
    "dateList = calculateDateRange(date(2013, 4, 9), date(2017, 3, 9))\n",
    "getData(dateList,\"Science\")"
   ]
  },
  {
   "cell_type": "code",
   "execution_count": 27,
   "metadata": {
    "collapsed": true
   },
   "outputs": [],
   "source": [
    "def calculateWeekDateRange(beginDate, endDate):\n",
    "    dateList = []\n",
    "    while(beginDate < endDate):\n",
    "        beginDate =  beginDate + relativedelta.relativedelta(days=7)\n",
    "#         print(beginDate)\n",
    "        dateList.append(beginDate)\n",
    "    return dateList"
   ]
  },
  {
   "cell_type": "code",
   "execution_count": 29,
   "metadata": {
    "collapsed": false
   },
   "outputs": [
    {
     "data": {
      "text/plain": [
       "[datetime.date(2014, 1, 16),\n",
       " datetime.date(2014, 1, 23),\n",
       " datetime.date(2014, 1, 30),\n",
       " datetime.date(2014, 2, 6),\n",
       " datetime.date(2014, 2, 13),\n",
       " datetime.date(2014, 2, 20),\n",
       " datetime.date(2014, 2, 27),\n",
       " datetime.date(2014, 3, 6),\n",
       " datetime.date(2014, 3, 13),\n",
       " datetime.date(2014, 3, 20),\n",
       " datetime.date(2014, 3, 27),\n",
       " datetime.date(2014, 4, 3),\n",
       " datetime.date(2014, 4, 10),\n",
       " datetime.date(2014, 4, 17),\n",
       " datetime.date(2014, 4, 24),\n",
       " datetime.date(2014, 5, 1),\n",
       " datetime.date(2014, 5, 8),\n",
       " datetime.date(2014, 5, 15),\n",
       " datetime.date(2014, 5, 22),\n",
       " datetime.date(2014, 5, 29),\n",
       " datetime.date(2014, 6, 5),\n",
       " datetime.date(2014, 6, 12),\n",
       " datetime.date(2014, 6, 19),\n",
       " datetime.date(2014, 6, 26),\n",
       " datetime.date(2014, 7, 3),\n",
       " datetime.date(2014, 7, 10),\n",
       " datetime.date(2014, 7, 17),\n",
       " datetime.date(2014, 7, 24),\n",
       " datetime.date(2014, 7, 31),\n",
       " datetime.date(2014, 8, 7),\n",
       " datetime.date(2014, 8, 14),\n",
       " datetime.date(2014, 8, 21),\n",
       " datetime.date(2014, 8, 28),\n",
       " datetime.date(2014, 9, 4),\n",
       " datetime.date(2014, 9, 11),\n",
       " datetime.date(2014, 9, 18),\n",
       " datetime.date(2014, 9, 25),\n",
       " datetime.date(2014, 10, 2),\n",
       " datetime.date(2014, 10, 9),\n",
       " datetime.date(2014, 10, 16),\n",
       " datetime.date(2014, 10, 23),\n",
       " datetime.date(2014, 10, 30),\n",
       " datetime.date(2014, 11, 6),\n",
       " datetime.date(2014, 11, 13),\n",
       " datetime.date(2014, 11, 20),\n",
       " datetime.date(2014, 11, 27),\n",
       " datetime.date(2014, 12, 4),\n",
       " datetime.date(2014, 12, 11),\n",
       " datetime.date(2014, 12, 18),\n",
       " datetime.date(2014, 12, 25),\n",
       " datetime.date(2015, 1, 1),\n",
       " datetime.date(2015, 1, 8),\n",
       " datetime.date(2015, 1, 15),\n",
       " datetime.date(2015, 1, 22),\n",
       " datetime.date(2015, 1, 29),\n",
       " datetime.date(2015, 2, 5),\n",
       " datetime.date(2015, 2, 12),\n",
       " datetime.date(2015, 2, 19),\n",
       " datetime.date(2015, 2, 26),\n",
       " datetime.date(2015, 3, 5),\n",
       " datetime.date(2015, 3, 12),\n",
       " datetime.date(2015, 3, 19),\n",
       " datetime.date(2015, 3, 26),\n",
       " datetime.date(2015, 4, 2),\n",
       " datetime.date(2015, 4, 9),\n",
       " datetime.date(2015, 4, 16),\n",
       " datetime.date(2015, 4, 23),\n",
       " datetime.date(2015, 4, 30),\n",
       " datetime.date(2015, 5, 7),\n",
       " datetime.date(2015, 5, 14),\n",
       " datetime.date(2015, 5, 21),\n",
       " datetime.date(2015, 5, 28),\n",
       " datetime.date(2015, 6, 4),\n",
       " datetime.date(2015, 6, 11),\n",
       " datetime.date(2015, 6, 18),\n",
       " datetime.date(2015, 6, 25),\n",
       " datetime.date(2015, 7, 2),\n",
       " datetime.date(2015, 7, 9),\n",
       " datetime.date(2015, 7, 16),\n",
       " datetime.date(2015, 7, 23),\n",
       " datetime.date(2015, 7, 30),\n",
       " datetime.date(2015, 8, 6),\n",
       " datetime.date(2015, 8, 13),\n",
       " datetime.date(2015, 8, 20),\n",
       " datetime.date(2015, 8, 27),\n",
       " datetime.date(2015, 9, 3),\n",
       " datetime.date(2015, 9, 10),\n",
       " datetime.date(2015, 9, 17),\n",
       " datetime.date(2015, 9, 24),\n",
       " datetime.date(2015, 10, 1),\n",
       " datetime.date(2015, 10, 8),\n",
       " datetime.date(2015, 10, 15),\n",
       " datetime.date(2015, 10, 22),\n",
       " datetime.date(2015, 10, 29),\n",
       " datetime.date(2015, 11, 5),\n",
       " datetime.date(2015, 11, 12),\n",
       " datetime.date(2015, 11, 19),\n",
       " datetime.date(2015, 11, 26),\n",
       " datetime.date(2015, 12, 3),\n",
       " datetime.date(2015, 12, 10),\n",
       " datetime.date(2015, 12, 17),\n",
       " datetime.date(2015, 12, 24),\n",
       " datetime.date(2015, 12, 31),\n",
       " datetime.date(2016, 1, 7),\n",
       " datetime.date(2016, 1, 14),\n",
       " datetime.date(2016, 1, 21),\n",
       " datetime.date(2016, 1, 28),\n",
       " datetime.date(2016, 2, 4),\n",
       " datetime.date(2016, 2, 11),\n",
       " datetime.date(2016, 2, 18),\n",
       " datetime.date(2016, 2, 25),\n",
       " datetime.date(2016, 3, 3),\n",
       " datetime.date(2016, 3, 10),\n",
       " datetime.date(2016, 3, 17),\n",
       " datetime.date(2016, 3, 24),\n",
       " datetime.date(2016, 3, 31),\n",
       " datetime.date(2016, 4, 7),\n",
       " datetime.date(2016, 4, 14),\n",
       " datetime.date(2016, 4, 21),\n",
       " datetime.date(2016, 4, 28),\n",
       " datetime.date(2016, 5, 5),\n",
       " datetime.date(2016, 5, 12),\n",
       " datetime.date(2016, 5, 19),\n",
       " datetime.date(2016, 5, 26),\n",
       " datetime.date(2016, 6, 2),\n",
       " datetime.date(2016, 6, 9),\n",
       " datetime.date(2016, 6, 16),\n",
       " datetime.date(2016, 6, 23),\n",
       " datetime.date(2016, 6, 30),\n",
       " datetime.date(2016, 7, 7),\n",
       " datetime.date(2016, 7, 14),\n",
       " datetime.date(2016, 7, 21),\n",
       " datetime.date(2016, 7, 28),\n",
       " datetime.date(2016, 8, 4),\n",
       " datetime.date(2016, 8, 11),\n",
       " datetime.date(2016, 8, 18),\n",
       " datetime.date(2016, 8, 25),\n",
       " datetime.date(2016, 9, 1),\n",
       " datetime.date(2016, 9, 8),\n",
       " datetime.date(2016, 9, 15),\n",
       " datetime.date(2016, 9, 22),\n",
       " datetime.date(2016, 9, 29),\n",
       " datetime.date(2016, 10, 6),\n",
       " datetime.date(2016, 10, 13),\n",
       " datetime.date(2016, 10, 20),\n",
       " datetime.date(2016, 10, 27),\n",
       " datetime.date(2016, 11, 3),\n",
       " datetime.date(2016, 11, 10),\n",
       " datetime.date(2016, 11, 17),\n",
       " datetime.date(2016, 11, 24),\n",
       " datetime.date(2016, 12, 1),\n",
       " datetime.date(2016, 12, 8),\n",
       " datetime.date(2016, 12, 15),\n",
       " datetime.date(2016, 12, 22),\n",
       " datetime.date(2016, 12, 29),\n",
       " datetime.date(2017, 1, 5),\n",
       " datetime.date(2017, 1, 12)]"
      ]
     },
     "execution_count": 29,
     "metadata": {},
     "output_type": "execute_result"
    }
   ],
   "source": [
    "dateList = calculateWeekDateRange(date(2014, 1, 9), date(2017, 1, 9))\n",
    "getData(dateList,\"E-Book Fiction\")"
   ]
  },
  {
   "cell_type": "code",
   "execution_count": null,
   "metadata": {
    "collapsed": true
   },
   "outputs": [],
   "source": []
  }
 ],
 "metadata": {
  "anaconda-cloud": {},
  "kernelspec": {
   "display_name": "Python [conda root]",
   "language": "python",
   "name": "conda-root-py"
  },
  "language_info": {
   "codemirror_mode": {
    "name": "ipython",
    "version": 3
   },
   "file_extension": ".py",
   "mimetype": "text/x-python",
   "name": "python",
   "nbconvert_exporter": "python",
   "pygments_lexer": "ipython3",
   "version": "3.5.2"
  }
 },
 "nbformat": 4,
 "nbformat_minor": 1
}
