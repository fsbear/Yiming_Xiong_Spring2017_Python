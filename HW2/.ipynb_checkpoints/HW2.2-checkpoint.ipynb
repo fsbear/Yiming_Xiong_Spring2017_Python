{
 "cells": [
  {
   "cell_type": "markdown",
   "metadata": {},
   "source": [
    "# Q2"
   ]
  },
  {
   "cell_type": "code",
   "execution_count": 10,
   "metadata": {
    "collapsed": true
   },
   "outputs": [],
   "source": [
    "import json\n",
    "import os\n",
    "import glob"
   ]
  },
  {
   "cell_type": "code",
   "execution_count": 2,
   "metadata": {
    "collapsed": false
   },
   "outputs": [
    {
     "data": {
      "text/plain": [
       "['/Users/xiongyiming/Documents/INFO7374Python/HW2/Data/1-abercrombie-lane-sydney.json',\n",
       " '/Users/xiongyiming/Documents/INFO7374Python/HW2/Data/1-chicken-rice-and-seafood-houston.json']"
      ]
     },
     "execution_count": 2,
     "metadata": {},
     "output_type": "execute_result"
    }
   ],
   "source": [
    "pathList = []\n",
    "for name in glob.glob('/Users/xiongyiming/Documents/INFO7374Python/HW2/Data/*.json'):\n",
    "    pathList.append(name)\n",
    "    \n",
    "pathList[:2]"
   ]
  },
  {
   "cell_type": "code",
   "execution_count": 13,
   "metadata": {
    "collapsed": false
   },
   "outputs": [],
   "source": [
    "termList = []\n",
    "countryList = []\n",
    "stateList = []\n",
    "cityList = []\n",
    "\n",
    "pathhead = '/Users/xiongyiming/Documents/INFO7374Python/HW2/Folder/' \n",
    "\n",
    "def readJson():\n",
    "    for path in pathList:\n",
    "        f = open(path, 'r', encoding = 'utf-8', errors = 'ignore')\n",
    "        data = json.load(f)\n",
    "        country = data.get(\"location\").get(\"country\")\n",
    "        state = data.get(\"location\").get(\"state\")\n",
    "        city = data.get(\"location\").get(\"city\")\n",
    "        term = data.get(\"term\")\n",
    "        \n",
    "        \n",
    "        \n",
    "        if not os.path.exists(pathhead + country):\n",
    "            os.makedirs(pathhead + country)\n",
    "        if not os.path.exists(pathhead + country + \"/\" + state):\n",
    "            os.makedirs(pathhead + country + \"/\" + state)\n",
    "        if not os.path.exists(pathhead + country + \"/\" + state + \"/\" + city):\n",
    "            os.makedirs(pathhead + country + \"/\" + state + \"/\" + city)\n",
    "        if not os.path.exists(pathhead + country + \"/\" + state + \"/\" + city + \"/\" + term):\n",
    "            os.makedirs(pathhead + country + \"/\" + state + \"/\" + city + \"/\" + term)\n",
    "           \n",
    "        \n",
    "                       \n",
    "readJson()\n"
   ]
  },
  {
   "cell_type": "code",
   "execution_count": null,
   "metadata": {
    "collapsed": true
   },
   "outputs": [],
   "source": [
    "\n",
    "                "
   ]
  },
  {
   "cell_type": "code",
   "execution_count": null,
   "metadata": {
    "collapsed": true
   },
   "outputs": [],
   "source": []
  }
 ],
 "metadata": {
  "kernelspec": {
   "display_name": "Python [conda root]",
   "language": "python",
   "name": "conda-root-py"
  },
  "language_info": {
   "codemirror_mode": {
    "name": "ipython",
    "version": 3
   },
   "file_extension": ".py",
   "mimetype": "text/x-python",
   "name": "python",
   "nbconvert_exporter": "python",
   "pygments_lexer": "ipython3",
   "version": "3.5.2"
  }
 },
 "nbformat": 4,
 "nbformat_minor": 1
}
