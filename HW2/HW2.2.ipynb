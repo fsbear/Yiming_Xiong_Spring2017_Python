{
 "cells": [
  {
   "cell_type": "markdown",
   "metadata": {},
   "source": [
    "# Q2"
   ]
  },
  {
   "cell_type": "code",
   "execution_count": 1,
   "metadata": {
    "collapsed": true
   },
   "outputs": [],
   "source": [
    "import json\n",
    "import os\n",
    "import glob\n",
    "import shutil"
   ]
  },
  {
   "cell_type": "code",
   "execution_count": 2,
   "metadata": {
    "collapsed": false
   },
   "outputs": [
    {
     "data": {
      "text/plain": [
       "['/Users/xiongyiming/Documents/INFO7374Python/HW2/Data/1-abercrombie-lane-sydney.json',\n",
       " '/Users/xiongyiming/Documents/INFO7374Python/HW2/Data/1-chicken-rice-and-seafood-houston.json']"
      ]
     },
     "execution_count": 2,
     "metadata": {},
     "output_type": "execute_result"
    }
   ],
   "source": [
    "pathList = []\n",
    "for name in glob.glob('/Users/xiongyiming/Documents/INFO7374Python/HW2/Data/*.json'):\n",
    "    pathList.append(name)\n",
    "    \n",
    "pathList[:2]"
   ]
  },
  {
   "cell_type": "code",
   "execution_count": 12,
   "metadata": {
    "collapsed": false
   },
   "outputs": [
    {
     "name": "stdout",
     "output_type": "stream",
     "text": [
      "/Users/xiongyiming/Documents/INFO7374Python/HW2/Data/9-11-tribute-center-new-york.json\n"
     ]
    },
    {
     "ename": "NameError",
     "evalue": "name 'typeof' is not defined",
     "output_type": "error",
     "traceback": [
      "\u001b[0;31m---------------------------------------------------------------------------\u001b[0m",
      "\u001b[0;31mNameError\u001b[0m                                 Traceback (most recent call last)",
      "\u001b[0;32m<ipython-input-12-052c71cf0e30>\u001b[0m in \u001b[0;36m<module>\u001b[0;34m()\u001b[0m\n\u001b[1;32m     36\u001b[0m \u001b[0;34m\u001b[0m\u001b[0m\n\u001b[1;32m     37\u001b[0m \u001b[0;34m\u001b[0m\u001b[0m\n\u001b[0;32m---> 38\u001b[0;31m \u001b[0mcatagorize\u001b[0m\u001b[0;34m(\u001b[0m\u001b[0;34m)\u001b[0m\u001b[0;34m\u001b[0m\u001b[0m\n\u001b[0m",
      "\u001b[0;32m<ipython-input-12-052c71cf0e30>\u001b[0m in \u001b[0;36mcatagorize\u001b[0;34m()\u001b[0m\n\u001b[1;32m     18\u001b[0m             \u001b[0mprint\u001b[0m\u001b[0;34m(\u001b[0m\u001b[0mpath\u001b[0m\u001b[0;34m)\u001b[0m\u001b[0;34m\u001b[0m\u001b[0m\n\u001b[1;32m     19\u001b[0m             \u001b[0mname\u001b[0m\u001b[0;34m.\u001b[0m\u001b[0mreplace\u001b[0m\u001b[0;34m(\u001b[0m\u001b[0;34m'9/11'\u001b[0m\u001b[0;34m,\u001b[0m \u001b[0;34m'911'\u001b[0m\u001b[0;34m)\u001b[0m\u001b[0;34m\u001b[0m\u001b[0m\n\u001b[0;32m---> 20\u001b[0;31m             \u001b[0mprint\u001b[0m\u001b[0;34m(\u001b[0m\u001b[0mtypeof\u001b[0m\u001b[0;34m(\u001b[0m\u001b[0mname\u001b[0m\u001b[0;34m)\u001b[0m\u001b[0;34m)\u001b[0m\u001b[0;34m\u001b[0m\u001b[0m\n\u001b[0m\u001b[1;32m     21\u001b[0m             \u001b[0mprint\u001b[0m\u001b[0;34m(\u001b[0m\u001b[0mname\u001b[0m\u001b[0;34m)\u001b[0m\u001b[0;34m\u001b[0m\u001b[0m\n\u001b[1;32m     22\u001b[0m \u001b[0;34m\u001b[0m\u001b[0m\n",
      "\u001b[0;31mNameError\u001b[0m: name 'typeof' is not defined"
     ]
    }
   ],
   "source": [
    "termList = []\n",
    "countryList = []\n",
    "stateList = []\n",
    "cityList = []\n",
    "\n",
    "pathhead = '/Users/xiongyiming/Documents/INFO7374Python/HW2/Data_proccessed/' \n",
    "\n",
    "def catagorize():\n",
    "    for path in pathList:\n",
    "        f = open(path, 'r', encoding = 'utf-8', errors = 'ignore')\n",
    "        data = json.load(f)\n",
    "        country = data.get(\"location\").get(\"country\")\n",
    "        state = data.get(\"location\").get(\"state\")\n",
    "        city = data.get(\"location\").get(\"city\")\n",
    "        term = data.get(\"term\")\n",
    "        name = data.get(\"name\")\n",
    "        if name.find('/') != -1:\n",
    "            print(path)\n",
    "            name.replace('9/11', '911')\n",
    "            print(typeof(name))\n",
    "            print(name)\n",
    "             \n",
    "        if not os.path.exists(pathhead + country):\n",
    "            os.makedirs(pathhead + country)\n",
    "        if not os.path.exists(pathhead + country + \"/\" + state):\n",
    "            os.makedirs(pathhead + country + \"/\" + state)\n",
    "        if not os.path.exists(pathhead + country + \"/\" + state + \"/\" + city):\n",
    "            os.makedirs(pathhead + country + \"/\" + state + \"/\" + city)\n",
    "        if not os.path.exists(pathhead + country + \"/\" + state + \"/\" + city + \"/\" + term):\n",
    "            os.makedirs(pathhead + country + \"/\" + state + \"/\" + city + \"/\" + term)\n",
    "            \n",
    "        \n",
    "        shutil.copy2(path, pathhead + country + \"/\" + state + \"/\" + city + \"/\" + term + \"/\" + name + \".json\")\n",
    "        \n",
    "           \n",
    "        \n",
    "                       \n",
    "catagorize()\n"
   ]
  },
  {
   "cell_type": "code",
   "execution_count": null,
   "metadata": {
    "collapsed": true
   },
   "outputs": [],
   "source": [
    "def operation():\n",
    "    for path in pathList:\n",
    "        f = open(path, 'r', encoding = 'utf-8', errors = 'ignore')\n",
    "        data = json.load(f)\n",
    "        term = data.get(\"term\")\n",
    "        if term  == \"\"\n",
    "        openhour = data.get(\"hours\").get(\"open\")\n",
    "        \n",
    "                "
   ]
  },
  {
   "cell_type": "code",
   "execution_count": null,
   "metadata": {
    "collapsed": true
   },
   "outputs": [],
   "source": []
  }
 ],
 "metadata": {
  "kernelspec": {
   "display_name": "Python [conda root]",
   "language": "python",
   "name": "conda-root-py"
  },
  "language_info": {
   "codemirror_mode": {
    "name": "ipython",
    "version": 3
   },
   "file_extension": ".py",
   "mimetype": "text/x-python",
   "name": "python",
   "nbconvert_exporter": "python",
   "pygments_lexer": "ipython3",
   "version": "3.5.2"
  }
 },
 "nbformat": 4,
 "nbformat_minor": 1
}
