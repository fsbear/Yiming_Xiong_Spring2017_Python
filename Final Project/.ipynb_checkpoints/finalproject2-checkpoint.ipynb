{
 "cells": [
  {
   "cell_type": "markdown",
   "metadata": {},
   "source": [
    "# Analysis 2"
   ]
  },
  {
   "cell_type": "code",
   "execution_count": 1,
   "metadata": {
    "collapsed": true
   },
   "outputs": [],
   "source": [
    "import argparse\n",
    "import json\n",
    "import pprint\n",
    "import requests\n",
    "import sys\n",
    "import urllib\n",
    "import csv\n",
    "import time\n",
    "import datetime\n",
    "import pandas as pd\n",
    "import glob\n",
    "from pandas.io.json import json_normalize\n",
    "from numpy import nan as NA\n",
    "\n",
    "from urllib.error import HTTPError\n",
    "from urllib.parse import quote\n",
    "from urllib.parse import urlencode"
   ]
  },
  {
   "cell_type": "code",
   "execution_count": 2,
   "metadata": {
    "collapsed": true
   },
   "outputs": [],
   "source": [
    "CLIENT_ID = 'gBcvfFpabk3CnzmXKdYe3w'\n",
    "CLIENT_SECRET = 'K9dIltpo1DH4hTrKy6c7YhxR2bwENElpzqTEaRz44QXxKnImd3cSOnYmhrucVHns'\n",
    "API_HOST = 'https://api.yelp.com'\n",
    "SEARCH_PATH = '/v3/businesses/search'\n",
    "BUSINESS_PATH = '/v3/businesses/'  # Business ID will come after slash.\n",
    "TOKEN_PATH = '/oauth2/token'\n",
    "GRANT_TYPE = 'client_credentials'\n",
    "SEARCH_LIMIT = 50"
   ]
  },
  {
   "cell_type": "code",
   "execution_count": 3,
   "metadata": {
    "collapsed": false
   },
   "outputs": [
    {
     "data": {
      "text/plain": [
       "'Z1C_ixTGccfADwGnwzG5yUE_tqYbJ3Vfj33NrA5Qi_LhXdj_A0idBPo8mP2dHU71s6HAkJuCJDxhH-BJ1WSDno-pyfmit-GNuVB8gPlu2kxjw-tgGZSO6VHnG4H_WHYx'"
      ]
     },
     "execution_count": 3,
     "metadata": {},
     "output_type": "execute_result"
    }
   ],
   "source": [
    "def obtaintoken(host, path):\n",
    "    url = '{0}{1}'.format(host, quote(path.encode('utf8')))\n",
    "    assert CLIENT_ID, \"Please supply your client_id.\"\n",
    "    assert CLIENT_SECRET, \"Please supply your client_secret.\"\n",
    "    data = urlencode({\n",
    "        'client_id': CLIENT_ID,\n",
    "        'client_secret': CLIENT_SECRET,\n",
    "        'grant_type': GRANT_TYPE,\n",
    "    })\n",
    "    headers = {\n",
    "        'content-type': 'application/x-www-form-urlencoded',\n",
    "    }\n",
    "    response = requests.request('POST', url, data=data, headers=headers)\n",
    "    token = response.json()['access_token']\n",
    "    return token\n",
    "\n",
    "token = obtaintoken(API_HOST, TOKEN_PATH)\n",
    "token\n"
   ]
  },
  {
   "cell_type": "code",
   "execution_count": 4,
   "metadata": {
    "collapsed": true
   },
   "outputs": [],
   "source": [
    "def request(host, path, token, url_params=None):\n",
    "    url_params = url_params or {}\n",
    "    url = '{0}{1}'.format(host, quote(path.encode('utf8')))\n",
    "    headers = {\n",
    "        'Authorization': 'Bearer %s' % token,\n",
    "    }\n",
    "\n",
    "#     pr\\int(u'Querying {0} ...'.format(url))\n",
    "\n",
    "    response = requests.request('GET', url, headers=headers, params=url_params)\n",
    "\n",
    "    return response.json()\n",
    "\n",
    "def search(token, term, location):\n",
    "    \n",
    "\n",
    "    url_params = {\n",
    "        'term': term.replace(' ', '+'),\n",
    "        'location': location.replace(' ', '+'),\n",
    "        'limit': SEARCH_LIMIT\n",
    "    }\n",
    "    return request(API_HOST, SEARCH_PATH, token, url_params=url_params)\n",
    "\n",
    "def get_business(token, business_id):\n",
    "    \n",
    "    business_path = BUSINESS_PATH + business_id\n",
    "\n",
    "    return request(API_HOST, business_path, token)\n",
    "\n",
    "def query_api(term, location):\n",
    "   \n",
    "\n",
    "    response = search(token, term, location)\n",
    "\n",
    "    businesses = response.get('businesses')\n",
    "\n",
    "    if not businesses:\n",
    "        print(u'No businesses for {0} in {1} found.'.format(term, location))\n",
    "        return\n",
    "\n",
    "    business_id = businesses[0]['id']\n",
    "\n",
    "    print(u'{0} businesses found, querying business info ' \\\n",
    "        'for the top result \"{1}\" ...'.format(\n",
    "            len(businesses), business_id))\n",
    "    response = get_business(token, business_id)\n",
    "\n",
    "    print(u'Result for business \"{0}\" found:'.format(business_id))\n",
    "    pprint.pprint(response, indent=2)\n"
   ]
  },
  {
   "cell_type": "code",
   "execution_count": 5,
   "metadata": {
    "collapsed": true
   },
   "outputs": [],
   "source": [
    "def findresult(place):\n",
    " \n",
    "    page = 0\n",
    "    url_params = {\n",
    "#                 'term': 'launch',\n",
    "                'location': place,\n",
    "                'limit': SEARCH_LIMIT,\n",
    "                'offset':0\n",
    "            }\n",
    "    response1 = request(API_HOST, SEARCH_PATH, token, url_params=url_params)\n",
    "    with open('data/consumptionlevel/'+ place.split(',')[0] + str(page) +'.json', 'a') as outfile:\n",
    "        json.dump(response1, outfile)\n",
    "\n",
    "    while (page < 19):\n",
    "#    due to the limitation of 1000\n",
    "        page = page + 1\n",
    "        url_params = {\n",
    "#                 'term': 'launch',\n",
    "                'location': place,\n",
    "                'limit': SEARCH_LIMIT,\n",
    "                'offset':50*page\n",
    "\n",
    "            }\n",
    "\n",
    "        response = request(API_HOST, SEARCH_PATH, token, url_params=url_params)\n",
    "        with open('data/consumptionlevel/'+ place.split(',')[0] + str(page) +'.json', 'a') as outfile:\n",
    "            json.dump(response, outfile)"
   ]
  },
  {
   "cell_type": "code",
   "execution_count": 6,
   "metadata": {
    "collapsed": false
   },
   "outputs": [],
   "source": [
    "place = 'Boston, MA'\n",
    "findresult(place)"
   ]
  },
  {
   "cell_type": "code",
   "execution_count": 7,
   "metadata": {
    "collapsed": false
   },
   "outputs": [],
   "source": [
    "place = 'New York, NY'\n",
    "findresult(place)\n",
    "place = 'Seattle, WA'\n",
    "findresult(place)\n",
    "place = 'Dallas, TX'\n",
    "findresult(place)\n",
    "place = 'Denver, CO'\n",
    "findresult(place)"
   ]
  },
  {
   "cell_type": "code",
   "execution_count": 12,
   "metadata": {
    "collapsed": true
   },
   "outputs": [],
   "source": [
    "pathList = []\n",
    "for filepath in glob.glob('/Users/xiongyiming/Documents/INFO7374Python/Final Project/data/consumptionlevel/*.json'):\n",
    "    pathList.append(filepath)    \n"
   ]
  },
  {
   "cell_type": "code",
   "execution_count": 13,
   "metadata": {
    "collapsed": false
   },
   "outputs": [],
   "source": [
    "dfbo=pd.DataFrame()\n",
    "dfny=pd.DataFrame()\n",
    "dfse=pd.DataFrame()\n",
    "dfda=pd.DataFrame()\n",
    "dfde=pd.DataFrame()\n",
    "for file in pathList:\n",
    "    if 'Boston' in file:\n",
    "        \n",
    "        with open(file) as data_file:    \n",
    "            datajson = json.load(data_file)\n",
    "            if 'businesses' in datajson:\n",
    "                df1 = json_normalize(datajson['businesses'])\n",
    "                df1 = df1.reindex(columns=['name', 'price', 'rating', 'review_count'])\n",
    "                df2 = df1[['name', 'price', 'rating', 'review_count']]\n",
    "                dfbo = pd.concat([dfbo,df2])\n",
    "                \n",
    "    if 'New York' in file:\n",
    "        with open(file) as data_file:    \n",
    "            datajson = json.load(data_file)\n",
    "            if 'businesses' in datajson:\n",
    "                df1 = json_normalize(datajson['businesses'])\n",
    "                df1 = df1.reindex(columns=['name', 'price', 'rating', 'review_count'])\n",
    "                df2 = df1[['name', 'price', 'rating', 'review_count']]\n",
    "                dfny = pd.concat([dfny,df2])\n",
    "                \n",
    "    if 'Seattle' in file:\n",
    "        with open(file) as data_file:    \n",
    "            datajson = json.load(data_file)\n",
    "            if 'businesses' in datajson:\n",
    "                df1 = json_normalize(datajson['businesses'])\n",
    "                df1 = df1.reindex(columns=['name', 'price', 'rating', 'review_count'])\n",
    "                df2 = df1[['name', 'price', 'rating', 'review_count']]\n",
    "                dfse = pd.concat([dfse,df2])\n",
    "                \n",
    "    if 'Dallas' in file:\n",
    "        with open(file) as data_file:    \n",
    "            datajson = json.load(data_file)\n",
    "            if 'businesses' in datajson:\n",
    "                df1 = json_normalize(datajson['businesses'])\n",
    "                df1 = df1.reindex(columns=['name', 'price', 'rating', 'review_count'])\n",
    "                df2 = df1[['name', 'price', 'rating', 'review_count']]\n",
    "                dfda = pd.concat([dfda,df2])\n",
    "                \n",
    "                \n",
    "    if 'Denver' in file:\n",
    "        with open(file) as data_file:    \n",
    "            datajson = json.load(data_file)\n",
    "            if 'businesses' in datajson:\n",
    "                df1 = json_normalize(datajson['businesses'])\n",
    "                df1 = df1.reindex(columns=['name', 'price', 'rating', 'review_count'])\n",
    "                df2 = df1[['name', 'price', 'rating', 'review_count']]\n",
    "                dfde = pd.concat([dfde,df2])"
   ]
  },
  {
   "cell_type": "code",
   "execution_count": 19,
   "metadata": {
    "collapsed": false
   },
   "outputs": [
    {
     "name": "stdout",
     "output_type": "stream",
     "text": [
      "938\n",
      "947\n",
      "960\n",
      "970\n",
      "984\n"
     ]
    },
    {
     "data": {
      "text/html": [
       "<div>\n",
       "<table border=\"1\" class=\"dataframe\">\n",
       "  <thead>\n",
       "    <tr style=\"text-align: right;\">\n",
       "      <th></th>\n",
       "      <th>name</th>\n",
       "      <th>price</th>\n",
       "      <th>rating</th>\n",
       "      <th>review_count</th>\n",
       "    </tr>\n",
       "  </thead>\n",
       "  <tbody>\n",
       "    <tr>\n",
       "      <th>0</th>\n",
       "      <td>Polcari's Coffee</td>\n",
       "      <td>1</td>\n",
       "      <td>5.0</td>\n",
       "      <td>150</td>\n",
       "    </tr>\n",
       "    <tr>\n",
       "      <th>1</th>\n",
       "      <td>GrandTen Distilling</td>\n",
       "      <td>2</td>\n",
       "      <td>5.0</td>\n",
       "      <td>69</td>\n",
       "    </tr>\n",
       "    <tr>\n",
       "      <th>3</th>\n",
       "      <td>Piperi Mediterranean Grill</td>\n",
       "      <td>1</td>\n",
       "      <td>4.5</td>\n",
       "      <td>404</td>\n",
       "    </tr>\n",
       "    <tr>\n",
       "      <th>4</th>\n",
       "      <td>O Ya</td>\n",
       "      <td>4</td>\n",
       "      <td>4.5</td>\n",
       "      <td>569</td>\n",
       "    </tr>\n",
       "    <tr>\n",
       "      <th>6</th>\n",
       "      <td>Boston Brewin Coffee</td>\n",
       "      <td>1</td>\n",
       "      <td>4.5</td>\n",
       "      <td>128</td>\n",
       "    </tr>\n",
       "  </tbody>\n",
       "</table>\n",
       "</div>"
      ],
      "text/plain": [
       "                         name price  rating  review_count\n",
       "0            Polcari's Coffee     1     5.0           150\n",
       "1         GrandTen Distilling     2     5.0            69\n",
       "3  Piperi Mediterranean Grill     1     4.5           404\n",
       "4                        O Ya     4     4.5           569\n",
       "6        Boston Brewin Coffee     1     4.5           128"
      ]
     },
     "execution_count": 19,
     "metadata": {},
     "output_type": "execute_result"
    }
   ],
   "source": [
    "citylist = [dfbo,dfny,dfse, dfda, dfde]\n",
    "def replace(df):\n",
    "    df['price'].replace(['$'], '1',inplace=True)\n",
    "    df['price'].replace(['$$'],'2',inplace=True)\n",
    "    df['price'].replace(['$$$'], '3',inplace=True)\n",
    "    df['price'].replace(['$$$$'],'4',inplace=True)\n",
    "    df1 = df.dropna()\n",
    "    df1.head()\n",
    "    print(len(df1))\n",
    "    return df1\n",
    "\n",
    "dfbo1 = replace(dfbo)\n",
    "dfny1 = replace(dfny)\n",
    "dfse1 = replace(dfse)\n",
    "dfda1 = replace(dfda)\n",
    "dfde1 = replace(dfde)\n",
    "\n",
    "\n",
    "dfbo1.head()"
   ]
  },
  {
   "cell_type": "code",
   "execution_count": null,
   "metadata": {
    "collapsed": true
   },
   "outputs": [],
   "source": [
    "dfbo1['consumptionlevel'] = dfbo1['price'] * dfbo1['rating']\n"
   ]
  },
  {
   "cell_type": "code",
   "execution_count": 31,
   "metadata": {
    "collapsed": true
   },
   "outputs": [],
   "source": [
    "def calculateconsumptionlevel(df):\n",
    "    df['consumptionlevel'] = df['price'].astype(float) * df['rating'].astype(float) * df['review_count'].astype(float)* 0.01"
   ]
  },
  {
   "cell_type": "code",
   "execution_count": 35,
   "metadata": {
    "collapsed": false
   },
   "outputs": [
    {
     "name": "stderr",
     "output_type": "stream",
     "text": [
      "//anaconda/lib/python3.5/site-packages/ipykernel/__main__.py:2: SettingWithCopyWarning: \n",
      "A value is trying to be set on a copy of a slice from a DataFrame.\n",
      "Try using .loc[row_indexer,col_indexer] = value instead\n",
      "\n",
      "See the caveats in the documentation: http://pandas.pydata.org/pandas-docs/stable/indexing.html#indexing-view-versus-copy\n",
      "  from ipykernel import kernelapp as app\n"
     ]
    }
   ],
   "source": [
    "calculateconsumptionlevel(dfbo1)\n",
    "calculateconsumptionlevel(dfny1)\n",
    "calculateconsumptionlevel(dfse1)\n",
    "calculateconsumptionlevel(dfda1)\n",
    "calculateconsumptionlevel(dfde1)"
   ]
  },
  {
   "cell_type": "code",
   "execution_count": 37,
   "metadata": {
    "collapsed": false
   },
   "outputs": [
    {
     "name": "stderr",
     "output_type": "stream",
     "text": [
      "//anaconda/lib/python3.5/site-packages/ipykernel/__main__.py:1: SettingWithCopyWarning: \n",
      "A value is trying to be set on a copy of a slice from a DataFrame.\n",
      "Try using .loc[row_indexer,col_indexer] = value instead\n",
      "\n",
      "See the caveats in the documentation: http://pandas.pydata.org/pandas-docs/stable/indexing.html#indexing-view-versus-copy\n",
      "  if __name__ == '__main__':\n",
      "//anaconda/lib/python3.5/site-packages/ipykernel/__main__.py:2: SettingWithCopyWarning: \n",
      "A value is trying to be set on a copy of a slice from a DataFrame.\n",
      "Try using .loc[row_indexer,col_indexer] = value instead\n",
      "\n",
      "See the caveats in the documentation: http://pandas.pydata.org/pandas-docs/stable/indexing.html#indexing-view-versus-copy\n",
      "  from ipykernel import kernelapp as app\n",
      "//anaconda/lib/python3.5/site-packages/ipykernel/__main__.py:3: SettingWithCopyWarning: \n",
      "A value is trying to be set on a copy of a slice from a DataFrame.\n",
      "Try using .loc[row_indexer,col_indexer] = value instead\n",
      "\n",
      "See the caveats in the documentation: http://pandas.pydata.org/pandas-docs/stable/indexing.html#indexing-view-versus-copy\n",
      "  app.launch_new_instance()\n",
      "//anaconda/lib/python3.5/site-packages/ipykernel/__main__.py:4: SettingWithCopyWarning: \n",
      "A value is trying to be set on a copy of a slice from a DataFrame.\n",
      "Try using .loc[row_indexer,col_indexer] = value instead\n",
      "\n",
      "See the caveats in the documentation: http://pandas.pydata.org/pandas-docs/stable/indexing.html#indexing-view-versus-copy\n",
      "//anaconda/lib/python3.5/site-packages/ipykernel/__main__.py:5: SettingWithCopyWarning: \n",
      "A value is trying to be set on a copy of a slice from a DataFrame.\n",
      "Try using .loc[row_indexer,col_indexer] = value instead\n",
      "\n",
      "See the caveats in the documentation: http://pandas.pydata.org/pandas-docs/stable/indexing.html#indexing-view-versus-copy\n"
     ]
    },
    {
     "data": {
      "text/html": [
       "<div>\n",
       "<table border=\"1\" class=\"dataframe\">\n",
       "  <thead>\n",
       "    <tr style=\"text-align: right;\">\n",
       "      <th></th>\n",
       "      <th>name</th>\n",
       "      <th>price</th>\n",
       "      <th>rating</th>\n",
       "      <th>review_count</th>\n",
       "      <th>consumptionlevel</th>\n",
       "      <th>region</th>\n",
       "    </tr>\n",
       "  </thead>\n",
       "  <tbody>\n",
       "    <tr>\n",
       "      <th>0</th>\n",
       "      <td>Polcari's Coffee</td>\n",
       "      <td>1</td>\n",
       "      <td>5.0</td>\n",
       "      <td>150</td>\n",
       "      <td>7.50</td>\n",
       "      <td>Boston</td>\n",
       "    </tr>\n",
       "    <tr>\n",
       "      <th>1</th>\n",
       "      <td>GrandTen Distilling</td>\n",
       "      <td>2</td>\n",
       "      <td>5.0</td>\n",
       "      <td>69</td>\n",
       "      <td>6.90</td>\n",
       "      <td>Boston</td>\n",
       "    </tr>\n",
       "    <tr>\n",
       "      <th>3</th>\n",
       "      <td>Piperi Mediterranean Grill</td>\n",
       "      <td>1</td>\n",
       "      <td>4.5</td>\n",
       "      <td>404</td>\n",
       "      <td>18.18</td>\n",
       "      <td>Boston</td>\n",
       "    </tr>\n",
       "    <tr>\n",
       "      <th>4</th>\n",
       "      <td>O Ya</td>\n",
       "      <td>4</td>\n",
       "      <td>4.5</td>\n",
       "      <td>569</td>\n",
       "      <td>102.42</td>\n",
       "      <td>Boston</td>\n",
       "    </tr>\n",
       "    <tr>\n",
       "      <th>6</th>\n",
       "      <td>Boston Brewin Coffee</td>\n",
       "      <td>1</td>\n",
       "      <td>4.5</td>\n",
       "      <td>128</td>\n",
       "      <td>5.76</td>\n",
       "      <td>Boston</td>\n",
       "    </tr>\n",
       "  </tbody>\n",
       "</table>\n",
       "</div>"
      ],
      "text/plain": [
       "                         name price  rating  review_count  consumptionlevel  \\\n",
       "0            Polcari's Coffee     1     5.0           150              7.50   \n",
       "1         GrandTen Distilling     2     5.0            69              6.90   \n",
       "3  Piperi Mediterranean Grill     1     4.5           404             18.18   \n",
       "4                        O Ya     4     4.5           569            102.42   \n",
       "6        Boston Brewin Coffee     1     4.5           128              5.76   \n",
       "\n",
       "   region  \n",
       "0  Boston  \n",
       "1  Boston  \n",
       "3  Boston  \n",
       "4  Boston  \n",
       "6  Boston  "
      ]
     },
     "execution_count": 37,
     "metadata": {},
     "output_type": "execute_result"
    }
   ],
   "source": [
    "dfbo1['region'] = 'Boston'\n",
    "dfny1['region'] = 'NewYork'\n",
    "dfse1['region'] = 'Seattle'\n",
    "dfda1['region'] = 'Dallas'\n",
    "dfde1['region'] = 'Denver'\n",
    "\n",
    "dfbo1.head()"
   ]
  },
  {
   "cell_type": "code",
   "execution_count": 53,
   "metadata": {
    "collapsed": false
   },
   "outputs": [
    {
     "data": {
      "text/html": [
       "<div>\n",
       "<table border=\"1\" class=\"dataframe\">\n",
       "  <thead>\n",
       "    <tr style=\"text-align: right;\">\n",
       "      <th></th>\n",
       "      <th>name</th>\n",
       "      <th>price</th>\n",
       "      <th>rating</th>\n",
       "      <th>review_count</th>\n",
       "      <th>consumptionlevel</th>\n",
       "      <th>region</th>\n",
       "    </tr>\n",
       "  </thead>\n",
       "  <tbody>\n",
       "    <tr>\n",
       "      <th>0</th>\n",
       "      <td>Polcari's Coffee</td>\n",
       "      <td>1</td>\n",
       "      <td>5.0</td>\n",
       "      <td>150</td>\n",
       "      <td>7.50</td>\n",
       "      <td>Boston</td>\n",
       "    </tr>\n",
       "    <tr>\n",
       "      <th>1</th>\n",
       "      <td>GrandTen Distilling</td>\n",
       "      <td>2</td>\n",
       "      <td>5.0</td>\n",
       "      <td>69</td>\n",
       "      <td>6.90</td>\n",
       "      <td>Boston</td>\n",
       "    </tr>\n",
       "    <tr>\n",
       "      <th>3</th>\n",
       "      <td>Piperi Mediterranean Grill</td>\n",
       "      <td>1</td>\n",
       "      <td>4.5</td>\n",
       "      <td>404</td>\n",
       "      <td>18.18</td>\n",
       "      <td>Boston</td>\n",
       "    </tr>\n",
       "    <tr>\n",
       "      <th>4</th>\n",
       "      <td>O Ya</td>\n",
       "      <td>4</td>\n",
       "      <td>4.5</td>\n",
       "      <td>569</td>\n",
       "      <td>102.42</td>\n",
       "      <td>Boston</td>\n",
       "    </tr>\n",
       "    <tr>\n",
       "      <th>6</th>\n",
       "      <td>Boston Brewin Coffee</td>\n",
       "      <td>1</td>\n",
       "      <td>4.5</td>\n",
       "      <td>128</td>\n",
       "      <td>5.76</td>\n",
       "      <td>Boston</td>\n",
       "    </tr>\n",
       "  </tbody>\n",
       "</table>\n",
       "</div>"
      ],
      "text/plain": [
       "                         name price  rating  review_count  consumptionlevel  \\\n",
       "0            Polcari's Coffee     1     5.0           150              7.50   \n",
       "1         GrandTen Distilling     2     5.0            69              6.90   \n",
       "3  Piperi Mediterranean Grill     1     4.5           404             18.18   \n",
       "4                        O Ya     4     4.5           569            102.42   \n",
       "6        Boston Brewin Coffee     1     4.5           128              5.76   \n",
       "\n",
       "   region  \n",
       "0  Boston  \n",
       "1  Boston  \n",
       "3  Boston  \n",
       "4  Boston  \n",
       "6  Boston  "
      ]
     },
     "execution_count": 53,
     "metadata": {},
     "output_type": "execute_result"
    }
   ],
   "source": [
    "df = pd.concat([dfbo1,dfny1,dfse1, dfda1, dfde1])\n",
    "df.head()"
   ]
  },
  {
   "cell_type": "code",
   "execution_count": 64,
   "metadata": {
    "collapsed": false
   },
   "outputs": [
    {
     "data": {
      "text/html": [
       "<div>\n",
       "<table border=\"1\" class=\"dataframe\">\n",
       "  <thead>\n",
       "    <tr style=\"text-align: right;\">\n",
       "      <th></th>\n",
       "      <th>region</th>\n",
       "      <th>rating</th>\n",
       "      <th>review_count</th>\n",
       "      <th>consumptionlevel</th>\n",
       "    </tr>\n",
       "  </thead>\n",
       "  <tbody>\n",
       "    <tr>\n",
       "      <th>0</th>\n",
       "      <td>Boston</td>\n",
       "      <td>3.871002</td>\n",
       "      <td>266.069296</td>\n",
       "      <td>21.324366</td>\n",
       "    </tr>\n",
       "    <tr>\n",
       "      <th>1</th>\n",
       "      <td>Dallas</td>\n",
       "      <td>4.013402</td>\n",
       "      <td>199.089691</td>\n",
       "      <td>14.868789</td>\n",
       "    </tr>\n",
       "    <tr>\n",
       "      <th>2</th>\n",
       "      <td>Denver</td>\n",
       "      <td>4.076728</td>\n",
       "      <td>215.739837</td>\n",
       "      <td>16.210701</td>\n",
       "    </tr>\n",
       "    <tr>\n",
       "      <th>3</th>\n",
       "      <td>NewYork</td>\n",
       "      <td>4.319958</td>\n",
       "      <td>440.447730</td>\n",
       "      <td>39.825913</td>\n",
       "    </tr>\n",
       "    <tr>\n",
       "      <th>4</th>\n",
       "      <td>Seattle</td>\n",
       "      <td>4.178125</td>\n",
       "      <td>330.570833</td>\n",
       "      <td>25.023495</td>\n",
       "    </tr>\n",
       "  </tbody>\n",
       "</table>\n",
       "</div>"
      ],
      "text/plain": [
       "    region    rating  review_count  consumptionlevel\n",
       "0   Boston  3.871002    266.069296         21.324366\n",
       "1   Dallas  4.013402    199.089691         14.868789\n",
       "2   Denver  4.076728    215.739837         16.210701\n",
       "3  NewYork  4.319958    440.447730         39.825913\n",
       "4  Seattle  4.178125    330.570833         25.023495"
      ]
     },
     "execution_count": 64,
     "metadata": {},
     "output_type": "execute_result"
    }
   ],
   "source": [
    "df1 = pd.DataFrame(df.groupby(['region'], as_index=False).mean())\n",
    "\n",
    "# df1.set_index('region')\n",
    "df1"
   ]
  },
  {
   "cell_type": "code",
   "execution_count": 72,
   "metadata": {
    "collapsed": false
   },
   "outputs": [
    {
     "data": {
      "text/html": [
       "<div>\n",
       "<table border=\"1\" class=\"dataframe\">\n",
       "  <thead>\n",
       "    <tr style=\"text-align: right;\">\n",
       "      <th></th>\n",
       "      <th>rating</th>\n",
       "      <th>review_count</th>\n",
       "      <th>consumptionlevel</th>\n",
       "    </tr>\n",
       "    <tr>\n",
       "      <th>region</th>\n",
       "      <th></th>\n",
       "      <th></th>\n",
       "      <th></th>\n",
       "    </tr>\n",
       "  </thead>\n",
       "  <tbody>\n",
       "    <tr>\n",
       "      <th>Boston</th>\n",
       "      <td>3.871002</td>\n",
       "      <td>266.069296</td>\n",
       "      <td>21.324366</td>\n",
       "    </tr>\n",
       "    <tr>\n",
       "      <th>Dallas</th>\n",
       "      <td>4.013402</td>\n",
       "      <td>199.089691</td>\n",
       "      <td>14.868789</td>\n",
       "    </tr>\n",
       "    <tr>\n",
       "      <th>Denver</th>\n",
       "      <td>4.076728</td>\n",
       "      <td>215.739837</td>\n",
       "      <td>16.210701</td>\n",
       "    </tr>\n",
       "    <tr>\n",
       "      <th>NewYork</th>\n",
       "      <td>4.319958</td>\n",
       "      <td>440.447730</td>\n",
       "      <td>39.825913</td>\n",
       "    </tr>\n",
       "    <tr>\n",
       "      <th>Seattle</th>\n",
       "      <td>4.178125</td>\n",
       "      <td>330.570833</td>\n",
       "      <td>25.023495</td>\n",
       "    </tr>\n",
       "  </tbody>\n",
       "</table>\n",
       "</div>"
      ],
      "text/plain": [
       "           rating  review_count  consumptionlevel\n",
       "region                                           \n",
       "Boston   3.871002    266.069296         21.324366\n",
       "Dallas   4.013402    199.089691         14.868789\n",
       "Denver   4.076728    215.739837         16.210701\n",
       "NewYork  4.319958    440.447730         39.825913\n",
       "Seattle  4.178125    330.570833         25.023495"
      ]
     },
     "execution_count": 72,
     "metadata": {},
     "output_type": "execute_result"
    }
   ],
   "source": [
    "df2 = df1.set_index(['region'])\n",
    "df2"
   ]
  },
  {
   "cell_type": "code",
   "execution_count": 42,
   "metadata": {
    "collapsed": true
   },
   "outputs": [],
   "source": [
    "df1.to_csv('consumptionlevel.csv')"
   ]
  },
  {
   "cell_type": "code",
   "execution_count": 76,
   "metadata": {
    "collapsed": false
   },
   "outputs": [],
   "source": [
    "%matplotlib inline\n",
    "import numpy as np\n",
    "import matplotlib as mpl\n",
    "import matplotlib.pyplot as plt\n",
    "import seaborn as sns\n",
    "# sns.boxplot(data=df2['rating'])"
   ]
  },
  {
   "cell_type": "code",
   "execution_count": 74,
   "metadata": {
    "collapsed": false
   },
   "outputs": [
    {
     "data": {
      "text/plain": [
       "<matplotlib.axes._subplots.AxesSubplot at 0x11b823b70>"
      ]
     },
     "execution_count": 74,
     "metadata": {},
     "output_type": "execute_result"
    },
    {
     "data": {
      "image/png": "[encoded data removed]",
      "text/plain": [
       "<matplotlib.figure.Figure at 0x11b9b0f60>"
      ]
     },
     "metadata": {},
     "output_type": "display_data"
    }
   ],
   "source": [
    "\n",
    "df2.plot(kind='bar', color='k', alpha=0.7) "
   ]
  },
  {
   "cell_type": "code",
   "execution_count": null,
   "metadata": {
    "collapsed": true
   },
   "outputs": [],
   "source": []
  }
 ],
 "metadata": {
  "anaconda-cloud": {},
  "kernelspec": {
   "display_name": "Python [conda root]",
   "language": "python",
   "name": "conda-root-py"
  },
  "language_info": {
   "codemirror_mode": {
    "name": "ipython",
    "version": 3
   },
   "file_extension": ".py",
   "mimetype": "text/x-python",
   "name": "python",
   "nbconvert_exporter": "python",
   "pygments_lexer": "ipython3",
   "version": "3.5.2"
  }
 },
 "nbformat": 4,
 "nbformat_minor": 1
}
