{
 "cells": [
  {
   "cell_type": "markdown",
   "metadata": {},
   "source": [
    "# Analysis 3"
   ]
  },
  {
   "cell_type": "code",
   "execution_count": 75,
   "metadata": {
    "collapsed": true
   },
   "outputs": [],
   "source": [
    "import argparse\n",
    "import json\n",
    "import pprint\n",
    "import requests\n",
    "import sys\n",
    "import urllib\n",
    "import csv\n",
    "import time\n",
    "import datetime\n",
    "import pandas as pd\n",
    "import glob\n",
    "from pandas.io.json import json_normalize\n",
    "from numpy import nan as NA\n",
    "import nltk\n",
    "import operator\n",
    "from nltk.probability import FreqDist\n",
    "from nltk.corpus import stopwords\n",
    "\n",
    "from urllib.error import HTTPError\n",
    "from urllib.parse import quote\n",
    "from urllib.parse import urlencode"
   ]
  },
  {
   "cell_type": "code",
   "execution_count": 2,
   "metadata": {
    "collapsed": true
   },
   "outputs": [],
   "source": [
    "CLIENT_ID = 'gBcvfFpabk3CnzmXKdYe3w'\n",
    "CLIENT_SECRET = 'K9dIltpo1DH4hTrKy6c7YhxR2bwENElpzqTEaRz44QXxKnImd3cSOnYmhrucVHns'\n",
    "API_HOST = 'https://api.yelp.com'\n",
    "SEARCH_PATH = '/v3/businesses/search'\n",
    "BUSINESS_PATH = '/v3/businesses/'  # Business ID will come after slash.\n",
    "TOKEN_PATH = '/oauth2/token'\n",
    "GRANT_TYPE = 'client_credentials'\n",
    "SEARCH_LIMIT = 50"
   ]
  },
  {
   "cell_type": "code",
   "execution_count": 3,
   "metadata": {
    "collapsed": false
   },
   "outputs": [
    {
     "data": {
      "text/plain": [
       "'Z1C_ixTGccfADwGnwzG5yUE_tqYbJ3Vfj33NrA5Qi_LhXdj_A0idBPo8mP2dHU71s6HAkJuCJDxhH-BJ1WSDno-pyfmit-GNuVB8gPlu2kxjw-tgGZSO6VHnG4H_WHYx'"
      ]
     },
     "execution_count": 3,
     "metadata": {},
     "output_type": "execute_result"
    }
   ],
   "source": [
    "def obtaintoken(host, path):\n",
    "    url = '{0}{1}'.format(host, quote(path.encode('utf8')))\n",
    "    assert CLIENT_ID, \"Please supply your client_id.\"\n",
    "    assert CLIENT_SECRET, \"Please supply your client_secret.\"\n",
    "    data = urlencode({\n",
    "        'client_id': CLIENT_ID,\n",
    "        'client_secret': CLIENT_SECRET,\n",
    "        'grant_type': GRANT_TYPE,\n",
    "    })\n",
    "    headers = {\n",
    "        'content-type': 'application/x-www-form-urlencoded',\n",
    "    }\n",
    "    response = requests.request('POST', url, data=data, headers=headers)\n",
    "    token = response.json()['access_token']\n",
    "    return token\n",
    "\n",
    "token = obtaintoken(API_HOST, TOKEN_PATH)\n",
    "token\n"
   ]
  },
  {
   "cell_type": "code",
   "execution_count": 4,
   "metadata": {
    "collapsed": true
   },
   "outputs": [],
   "source": [
    "def request(host, path, token, url_params=None):\n",
    "    url_params = url_params or {}\n",
    "    url = '{0}{1}'.format(host, quote(path.encode('utf8')))\n",
    "    headers = {\n",
    "        'Authorization': 'Bearer %s' % token,\n",
    "    }\n",
    "\n",
    "#     pr\\int(u'Querying {0} ...'.format(url))\n",
    "\n",
    "    response = requests.request('GET', url, headers=headers, params=url_params)\n",
    "\n",
    "    return response.json()\n",
    "\n",
    "def search(token, term, location):\n",
    "    \n",
    "\n",
    "    url_params = {\n",
    "        'term': term.replace(' ', '+'),\n",
    "        'location': location.replace(' ', '+'),\n",
    "        'limit': SEARCH_LIMIT\n",
    "    }\n",
    "    return request(API_HOST, SEARCH_PATH, token, url_params=url_params)\n",
    "\n",
    "def get_business(token, business_id):\n",
    "    \n",
    "    business_path = BUSINESS_PATH + business_id\n",
    "\n",
    "    return request(API_HOST, business_path, token)\n",
    "\n",
    "def query_api(term, location):\n",
    "   \n",
    "\n",
    "    response = search(token, term, location)\n",
    "\n",
    "    businesses = response.get('businesses')\n",
    "\n",
    "    if not businesses:\n",
    "        print(u'No businesses for {0} in {1} found.'.format(term, location))\n",
    "        return\n",
    "\n",
    "    business_id = businesses[0]['id']\n",
    "\n",
    "    print(u'{0} businesses found, querying business info ' \\\n",
    "        'for the top result \"{1}\" ...'.format(\n",
    "            len(businesses), business_id))\n",
    "    response = get_business(token, business_id)\n",
    "\n",
    "    print(u'Result for business \"{0}\" found:'.format(business_id))\n",
    "    pprint.pprint(response, indent=2)\n"
   ]
  },
  {
   "cell_type": "code",
   "execution_count": 35,
   "metadata": {
    "collapsed": true
   },
   "outputs": [],
   "source": [
    "def findresult(categories):\n",
    "    page = 0\n",
    "    url_params = {\n",
    "                'location': 'New York, NY',\n",
    "                'limit': SEARCH_LIMIT,\n",
    "                'sort_by':'review_count',\n",
    "                'categories': categories,\n",
    "                'offset':0\n",
    "            }\n",
    "    response1 = request(API_HOST, SEARCH_PATH, token, url_params=url_params)\n",
    "    with open('data/foodcompare/'+ categories + str(page) +'.json', 'a') as outfile:\n",
    "        json.dump(response1, outfile)\n",
    "\n",
    "    while page < (response1['total']/50) and (page < 19):\n",
    "        page = page + 1\n",
    "        url_params = {\n",
    "                'location': 'New York, NY',\n",
    "                'limit': SEARCH_LIMIT,\n",
    "                'sort_by':'review_count',\n",
    "                'categories': categories,\n",
    "                'offset':50*page\n",
    "\n",
    "            }\n",
    "\n",
    "        response = request(API_HOST, SEARCH_PATH, token, url_params=url_params)\n",
    "        with open('data/foodcompare/' + categories + str(page) +'.json', 'a') as outfile:\n",
    "            json.dump(response, outfile)"
   ]
  },
  {
   "cell_type": "code",
   "execution_count": 36,
   "metadata": {
    "collapsed": false
   },
   "outputs": [],
   "source": [
    "Chinese ='chinese'\n",
    "Mexican = 'mexican'\n",
    "French = 'french'\n",
    "findresult(Chinese)\n",
    "findresult(Mexican)\n",
    "findresult(French)"
   ]
  },
  {
   "cell_type": "code",
   "execution_count": 38,
   "metadata": {
    "collapsed": true
   },
   "outputs": [],
   "source": [
    "pathList = []\n",
    "for filepath in glob.glob('/Users/xiongyiming/Documents/INFO7374Python/Final Project/data/foodcompare/*.json'):\n",
    "    pathList.append(filepath)    "
   ]
  },
  {
   "cell_type": "code",
   "execution_count": 39,
   "metadata": {
    "collapsed": false
   },
   "outputs": [],
   "source": [
    "dfch=pd.DataFrame()\n",
    "dfme=pd.DataFrame()\n",
    "dffr=pd.DataFrame()\n",
    "\n",
    "for file in pathList:\n",
    "    if 'chinese' in file:\n",
    "        \n",
    "        with open(file) as data_file:    \n",
    "            datajson = json.load(data_file)\n",
    "            if 'businesses' in datajson:\n",
    "                df1 = json_normalize(datajson['businesses'])\n",
    "                df1 = df1.reindex(columns=['name', 'price', 'rating', 'review_count','id'])\n",
    "                df2 = df1[['name', 'price', 'rating', 'review_count','id']]\n",
    "                dfch = pd.concat([dfch,df2])\n",
    "                \n",
    "    if 'mexican' in file:\n",
    "        with open(file) as data_file:    \n",
    "            datajson = json.load(data_file)\n",
    "            if 'businesses' in datajson:\n",
    "                df1 = json_normalize(datajson['businesses'])\n",
    "                df1 = df1.reindex(columns=['name', 'price', 'rating', 'review_count','id'])\n",
    "                df2 = df1[['name', 'price', 'rating', 'review_count','id']]\n",
    "                dfme = pd.concat([dfme,df2])\n",
    "                \n",
    "    if 'french' in file:\n",
    "        with open(file) as data_file:    \n",
    "            datajson = json.load(data_file)\n",
    "            if 'businesses' in datajson:\n",
    "                df1 = json_normalize(datajson['businesses'])\n",
    "                df1 = df1.reindex(columns=['name', 'price', 'rating', 'review_count','id'])\n",
    "                df2 = df1[['name', 'price', 'rating', 'review_count','id']]\n",
    "                dffr = pd.concat([dffr,df2])\n",
    "                \n",
    "    "
   ]
  },
  {
   "cell_type": "code",
   "execution_count": 67,
   "metadata": {
    "collapsed": false
   },
   "outputs": [],
   "source": [
    "def findid():\n",
    "    businessidlist = []\n",
    "    i = 0\n",
    "    while i < (len(dfch) -1):\n",
    "        businessid = str(dfch.iloc[i]['id'])\n",
    "        businessidlist.append(businessid)\n",
    "        i+=1\n",
    "    return businessidlist\n",
    "\n",
    "businessidlist= findid()\n",
    "# businessidlist"
   ]
  },
  {
   "cell_type": "code",
   "execution_count": 58,
   "metadata": {
    "collapsed": false
   },
   "outputs": [],
   "source": [
    "def getreview(businessid):\n",
    "    business_path = BUSINESS_PATH + businessid + '/reviews'\n",
    "    return request(API_HOST, business_path, token)"
   ]
  },
  {
   "cell_type": "code",
   "execution_count": 69,
   "metadata": {
    "collapsed": false
   },
   "outputs": [
    {
     "data": {
      "text/plain": [
       "{'reviews': [{'rating': 4,\n",
       "   'text': 'When you walk into the restaurant tucked away in a Chinatown alley, you\\'ll immediately be greeted by a newspaper article on the door proclaiming \"Joe\\'s\" to...',\n",
       "   'time_created': '2017-04-25 17:12:52',\n",
       "   'url': 'https://www.yelp.com/biz/joes-shanghai-new-york-2?hrid=iw77oOcLTIvrx8wHnuIkyg&adjust_creative=gBcvfFpabk3CnzmXKdYe3w&utm_campaign=yelp_api_v3&utm_medium=api_v3_business_reviews&utm_source=gBcvfFpabk3CnzmXKdYe3w',\n",
       "   'user': {'image_url': 'https://s3-media1.fl.yelpcdn.com/photo/W3-KILg-L07S2k46-9iPWw/o.jpg',\n",
       "    'name': 'Sherry X.'}},\n",
       "  {'rating': 5,\n",
       "   'text': \"Soooo annoying to heap on another glowing review for Joe's xiao long bao, but when you make the absolute best soup dumplings, you deserve all the...\",\n",
       "   'time_created': '2017-04-25 13:44:13',\n",
       "   'url': 'https://www.yelp.com/biz/joes-shanghai-new-york-2?hrid=23iJA0wIC7bLJlH8PgDb1w&adjust_creative=gBcvfFpabk3CnzmXKdYe3w&utm_campaign=yelp_api_v3&utm_medium=api_v3_business_reviews&utm_source=gBcvfFpabk3CnzmXKdYe3w',\n",
       "   'user': {'image_url': 'https://s3-media2.fl.yelpcdn.com/photo/Auy2X-jkJIQE7mRtSJJZPg/o.jpg',\n",
       "    'name': 'Jeff L.'}},\n",
       "  {'rating': 5,\n",
       "   'text': \"BELIEVE THE HYPE!!!\\n\\n#117 spicy beef tendon soup (with some extra chilli sauce to spice it up some more) has got to be the best soup I've ever had.\",\n",
       "   'time_created': '2017-04-24 12:59:28',\n",
       "   'url': 'https://www.yelp.com/biz/joes-shanghai-new-york-2?hrid=Job561AjUiD8JCF8Nk8LFA&adjust_creative=gBcvfFpabk3CnzmXKdYe3w&utm_campaign=yelp_api_v3&utm_medium=api_v3_business_reviews&utm_source=gBcvfFpabk3CnzmXKdYe3w',\n",
       "   'user': {'image_url': 'https://s3-media2.fl.yelpcdn.com/photo/beQpeqTB_wYtpyJX4hRJOA/o.jpg',\n",
       "    'name': 'Zoë K.'}}],\n",
       " 'total': 4313}"
      ]
     },
     "execution_count": 69,
     "metadata": {},
     "output_type": "execute_result"
    }
   ],
   "source": [
    "worddata = getreview(businessid)\n",
    "worddata"
   ]
  },
  {
   "cell_type": "code",
   "execution_count": 78,
   "metadata": {
    "collapsed": false
   },
   "outputs": [],
   "source": [
    "wordlist=[]\n",
    "\n",
    "for i in worddata['reviews']:\n",
    "    for word in i['text'].split():\n",
    "            if word.isalpha():\n",
    "                word = word.lower()\n",
    "                if word not in stopwords.words('english'):         \n",
    "                    wordlist.append(word)\n",
    "    \n",
    "#     wordlist.append(i['text'])"
   ]
  },
  {
   "cell_type": "code",
   "execution_count": 79,
   "metadata": {
    "collapsed": false
   },
   "outputs": [
    {
     "data": {
      "text/plain": [
       "['walk',\n",
       " 'restaurant',\n",
       " 'tucked',\n",
       " 'away',\n",
       " 'chinatown',\n",
       " 'immediately',\n",
       " 'greeted',\n",
       " 'newspaper',\n",
       " 'article',\n",
       " 'door',\n",
       " 'proclaiming',\n",
       " 'soooo',\n",
       " 'annoying',\n",
       " 'heap',\n",
       " 'another',\n",
       " 'glowing',\n",
       " 'review',\n",
       " 'xiao',\n",
       " 'long',\n",
       " 'make',\n",
       " 'absolute',\n",
       " 'best',\n",
       " 'soup',\n",
       " 'deserve',\n",
       " 'believe',\n",
       " 'spicy',\n",
       " 'beef',\n",
       " 'tendon',\n",
       " 'soup',\n",
       " 'extra',\n",
       " 'chilli',\n",
       " 'sauce',\n",
       " 'spice',\n",
       " 'got',\n",
       " 'best',\n",
       " 'soup',\n",
       " 'ever']"
      ]
     },
     "execution_count": 79,
     "metadata": {},
     "output_type": "execute_result"
    }
   ],
   "source": [
    "wordlist"
   ]
  },
  {
   "cell_type": "code",
   "execution_count": 82,
   "metadata": {
    "collapsed": false
   },
   "outputs": [
    {
     "data": {
      "text/plain": [
       "[('soup', 3), ('best', 2), ('review', 1)]"
      ]
     },
     "execution_count": 82,
     "metadata": {},
     "output_type": "execute_result"
    }
   ],
   "source": [
    "\n",
    "                    \n",
    "result = FreqDist(wordlist) \n",
    "\n",
    "sorted_wordlist = sorted(result.items(), key=operator.itemgetter(1))\n",
    "sorted_wordlist.reverse()\n",
    "sorted_wordlist[:3]\n",
    "\n",
    "    "
   ]
  },
  {
   "cell_type": "code",
   "execution_count": null,
   "metadata": {
    "collapsed": false
   },
   "outputs": [],
   "source": []
  },
  {
   "cell_type": "code",
   "execution_count": null,
   "metadata": {
    "collapsed": true
   },
   "outputs": [],
   "source": []
  }
 ],
 "metadata": {
  "anaconda-cloud": {},
  "kernelspec": {
   "display_name": "Python [conda root]",
   "language": "python",
   "name": "conda-root-py"
  },
  "language_info": {
   "codemirror_mode": {
    "name": "ipython",
    "version": 3
   },
   "file_extension": ".py",
   "mimetype": "text/x-python",
   "name": "python",
   "nbconvert_exporter": "python",
   "pygments_lexer": "ipython3",
   "version": "3.5.2"
  }
 },
 "nbformat": 4,
 "nbformat_minor": 1
}
